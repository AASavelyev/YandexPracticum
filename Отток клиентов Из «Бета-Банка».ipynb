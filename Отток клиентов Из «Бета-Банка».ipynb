{
 "cells": [
  {
   "cell_type": "markdown",
   "metadata": {
    "toc": true
   },
   "source": [
    "<h1>Содержание<span class=\"tocSkip\"></span></h1>\n",
    "<div class=\"toc\"><ul class=\"toc-item\"><li><span><a href=\"#Подготовка-данных\" data-toc-modified-id=\"Подготовка-данных-1\"><span class=\"toc-item-num\">1&nbsp;&nbsp;</span>Подготовка данных</a></span></li><li><span><a href=\"#Исследование-моделей\" data-toc-modified-id=\"Исследование-моделей-2\"><span class=\"toc-item-num\">2&nbsp;&nbsp;</span>Исследование моделей</a></span></li><li><span><a href=\"#Борьба-с-дисбалансом\" data-toc-modified-id=\"Борьба-с-дисбалансом-3\"><span class=\"toc-item-num\">3&nbsp;&nbsp;</span>Борьба с дисбалансом</a></span></li><li><span><a href=\"#Тестирование-модели\" data-toc-modified-id=\"Тестирование-модели-4\"><span class=\"toc-item-num\">4&nbsp;&nbsp;</span>Тестирование модели</a></span></li><li><span><a href=\"#Чек-лист-готовности-проекта\" data-toc-modified-id=\"Чек-лист-готовности-проекта-5\"><span class=\"toc-item-num\">5&nbsp;&nbsp;</span>Чек-лист готовности проекта</a></span></li><li><span><a href=\"#Общий-вывод\" data-toc-modified-id=\"Общий-вывод-6\"><span class=\"toc-item-num\">6&nbsp;&nbsp;</span>Общий вывод</a></span></li></ul></div>"
   ]
  },
  {
   "cell_type": "markdown",
   "metadata": {},
   "source": [
    "# Отток клиентов"
   ]
  },
  {
   "cell_type": "markdown",
   "metadata": {},
   "source": [
    "Из «Бета-Банка» стали уходить клиенты. Каждый месяц. Немного, но заметно. Банковские маркетологи посчитали: сохранять текущих клиентов дешевле, чем привлекать новых.\n",
    "\n",
    "Нужно спрогнозировать, уйдёт клиент из банка в ближайшее время или нет. Вам предоставлены исторические данные о поведении клиентов и расторжении договоров с банком. \n",
    "\n",
    "Постройте модель с предельно большим значением *F1*-меры. Чтобы сдать проект успешно, нужно довести метрику до 0.59. Проверьте *F1*-меру на тестовой выборке самостоятельно.\n",
    "\n",
    "Дополнительно измеряйте *AUC-ROC*, сравнивайте её значение с *F1*-мерой.\n",
    "\n",
    "Источник данных: [https://www.kaggle.com/barelydedicated/bank-customer-churn-modeling](https://www.kaggle.com/barelydedicated/bank-customer-churn-modeling)"
   ]
  },
  {
   "cell_type": "markdown",
   "metadata": {},
   "source": [
    "## Подготовка данных"
   ]
  },
  {
   "cell_type": "code",
   "execution_count": 29,
   "metadata": {},
   "outputs": [
    {
     "name": "stdout",
     "output_type": "stream",
     "text": [
      "<class 'pandas.core.frame.DataFrame'>\n",
      "RangeIndex: 10000 entries, 0 to 9999\n",
      "Data columns (total 14 columns):\n",
      " #   Column           Non-Null Count  Dtype  \n",
      "---  ------           --------------  -----  \n",
      " 0   RowNumber        10000 non-null  int64  \n",
      " 1   CustomerId       10000 non-null  int64  \n",
      " 2   Surname          10000 non-null  object \n",
      " 3   CreditScore      10000 non-null  int64  \n",
      " 4   Geography        10000 non-null  object \n",
      " 5   Gender           10000 non-null  object \n",
      " 6   Age              10000 non-null  int64  \n",
      " 7   Tenure           9091 non-null   float64\n",
      " 8   Balance          10000 non-null  float64\n",
      " 9   NumOfProducts    10000 non-null  int64  \n",
      " 10  HasCrCard        10000 non-null  int64  \n",
      " 11  IsActiveMember   10000 non-null  int64  \n",
      " 12  EstimatedSalary  10000 non-null  float64\n",
      " 13  Exited           10000 non-null  int64  \n",
      "dtypes: float64(3), int64(8), object(3)\n",
      "memory usage: 1.1+ MB\n"
     ]
    }
   ],
   "source": [
    "import pandas as pd\n",
    "import numpy as np\n",
    "from sklearn.utils import shuffle\n",
    "from sklearn.ensemble import RandomForestClassifier \n",
    "from sklearn.tree import DecisionTreeClassifier\n",
    "from sklearn.metrics import f1_score, roc_auc_score\n",
    "from sklearn.model_selection import train_test_split\n",
    "from sklearn.preprocessing import OrdinalEncoder\n",
    "from sklearn.dummy import DummyClassifier\n",
    "\n",
    "data = pd.read_csv('/datasets/Churn.csv')\n",
    "data.info()"
   ]
  },
  {
   "cell_type": "code",
   "execution_count": 2,
   "metadata": {},
   "outputs": [
    {
     "data": {
      "text/html": [
       "<div>\n",
       "<style scoped>\n",
       "    .dataframe tbody tr th:only-of-type {\n",
       "        vertical-align: middle;\n",
       "    }\n",
       "\n",
       "    .dataframe tbody tr th {\n",
       "        vertical-align: top;\n",
       "    }\n",
       "\n",
       "    .dataframe thead th {\n",
       "        text-align: right;\n",
       "    }\n",
       "</style>\n",
       "<table border=\"1\" class=\"dataframe\">\n",
       "  <thead>\n",
       "    <tr style=\"text-align: right;\">\n",
       "      <th></th>\n",
       "      <th>RowNumber</th>\n",
       "      <th>CustomerId</th>\n",
       "      <th>Surname</th>\n",
       "      <th>CreditScore</th>\n",
       "      <th>Geography</th>\n",
       "      <th>Gender</th>\n",
       "      <th>Age</th>\n",
       "      <th>Tenure</th>\n",
       "      <th>Balance</th>\n",
       "      <th>NumOfProducts</th>\n",
       "      <th>HasCrCard</th>\n",
       "      <th>IsActiveMember</th>\n",
       "      <th>EstimatedSalary</th>\n",
       "      <th>Exited</th>\n",
       "    </tr>\n",
       "  </thead>\n",
       "  <tbody>\n",
       "    <tr>\n",
       "      <th>0</th>\n",
       "      <td>1</td>\n",
       "      <td>15634602</td>\n",
       "      <td>Hargrave</td>\n",
       "      <td>619</td>\n",
       "      <td>France</td>\n",
       "      <td>Female</td>\n",
       "      <td>42</td>\n",
       "      <td>2.0</td>\n",
       "      <td>0.00</td>\n",
       "      <td>1</td>\n",
       "      <td>1</td>\n",
       "      <td>1</td>\n",
       "      <td>101348.88</td>\n",
       "      <td>1</td>\n",
       "    </tr>\n",
       "    <tr>\n",
       "      <th>1</th>\n",
       "      <td>2</td>\n",
       "      <td>15647311</td>\n",
       "      <td>Hill</td>\n",
       "      <td>608</td>\n",
       "      <td>Spain</td>\n",
       "      <td>Female</td>\n",
       "      <td>41</td>\n",
       "      <td>1.0</td>\n",
       "      <td>83807.86</td>\n",
       "      <td>1</td>\n",
       "      <td>0</td>\n",
       "      <td>1</td>\n",
       "      <td>112542.58</td>\n",
       "      <td>0</td>\n",
       "    </tr>\n",
       "    <tr>\n",
       "      <th>2</th>\n",
       "      <td>3</td>\n",
       "      <td>15619304</td>\n",
       "      <td>Onio</td>\n",
       "      <td>502</td>\n",
       "      <td>France</td>\n",
       "      <td>Female</td>\n",
       "      <td>42</td>\n",
       "      <td>8.0</td>\n",
       "      <td>159660.80</td>\n",
       "      <td>3</td>\n",
       "      <td>1</td>\n",
       "      <td>0</td>\n",
       "      <td>113931.57</td>\n",
       "      <td>1</td>\n",
       "    </tr>\n",
       "    <tr>\n",
       "      <th>3</th>\n",
       "      <td>4</td>\n",
       "      <td>15701354</td>\n",
       "      <td>Boni</td>\n",
       "      <td>699</td>\n",
       "      <td>France</td>\n",
       "      <td>Female</td>\n",
       "      <td>39</td>\n",
       "      <td>1.0</td>\n",
       "      <td>0.00</td>\n",
       "      <td>2</td>\n",
       "      <td>0</td>\n",
       "      <td>0</td>\n",
       "      <td>93826.63</td>\n",
       "      <td>0</td>\n",
       "    </tr>\n",
       "    <tr>\n",
       "      <th>4</th>\n",
       "      <td>5</td>\n",
       "      <td>15737888</td>\n",
       "      <td>Mitchell</td>\n",
       "      <td>850</td>\n",
       "      <td>Spain</td>\n",
       "      <td>Female</td>\n",
       "      <td>43</td>\n",
       "      <td>2.0</td>\n",
       "      <td>125510.82</td>\n",
       "      <td>1</td>\n",
       "      <td>1</td>\n",
       "      <td>1</td>\n",
       "      <td>79084.10</td>\n",
       "      <td>0</td>\n",
       "    </tr>\n",
       "    <tr>\n",
       "      <th>5</th>\n",
       "      <td>6</td>\n",
       "      <td>15574012</td>\n",
       "      <td>Chu</td>\n",
       "      <td>645</td>\n",
       "      <td>Spain</td>\n",
       "      <td>Male</td>\n",
       "      <td>44</td>\n",
       "      <td>8.0</td>\n",
       "      <td>113755.78</td>\n",
       "      <td>2</td>\n",
       "      <td>1</td>\n",
       "      <td>0</td>\n",
       "      <td>149756.71</td>\n",
       "      <td>1</td>\n",
       "    </tr>\n",
       "    <tr>\n",
       "      <th>6</th>\n",
       "      <td>7</td>\n",
       "      <td>15592531</td>\n",
       "      <td>Bartlett</td>\n",
       "      <td>822</td>\n",
       "      <td>France</td>\n",
       "      <td>Male</td>\n",
       "      <td>50</td>\n",
       "      <td>7.0</td>\n",
       "      <td>0.00</td>\n",
       "      <td>2</td>\n",
       "      <td>1</td>\n",
       "      <td>1</td>\n",
       "      <td>10062.80</td>\n",
       "      <td>0</td>\n",
       "    </tr>\n",
       "    <tr>\n",
       "      <th>7</th>\n",
       "      <td>8</td>\n",
       "      <td>15656148</td>\n",
       "      <td>Obinna</td>\n",
       "      <td>376</td>\n",
       "      <td>Germany</td>\n",
       "      <td>Female</td>\n",
       "      <td>29</td>\n",
       "      <td>4.0</td>\n",
       "      <td>115046.74</td>\n",
       "      <td>4</td>\n",
       "      <td>1</td>\n",
       "      <td>0</td>\n",
       "      <td>119346.88</td>\n",
       "      <td>1</td>\n",
       "    </tr>\n",
       "    <tr>\n",
       "      <th>8</th>\n",
       "      <td>9</td>\n",
       "      <td>15792365</td>\n",
       "      <td>He</td>\n",
       "      <td>501</td>\n",
       "      <td>France</td>\n",
       "      <td>Male</td>\n",
       "      <td>44</td>\n",
       "      <td>4.0</td>\n",
       "      <td>142051.07</td>\n",
       "      <td>2</td>\n",
       "      <td>0</td>\n",
       "      <td>1</td>\n",
       "      <td>74940.50</td>\n",
       "      <td>0</td>\n",
       "    </tr>\n",
       "    <tr>\n",
       "      <th>9</th>\n",
       "      <td>10</td>\n",
       "      <td>15592389</td>\n",
       "      <td>H?</td>\n",
       "      <td>684</td>\n",
       "      <td>France</td>\n",
       "      <td>Male</td>\n",
       "      <td>27</td>\n",
       "      <td>2.0</td>\n",
       "      <td>134603.88</td>\n",
       "      <td>1</td>\n",
       "      <td>1</td>\n",
       "      <td>1</td>\n",
       "      <td>71725.73</td>\n",
       "      <td>0</td>\n",
       "    </tr>\n",
       "  </tbody>\n",
       "</table>\n",
       "</div>"
      ],
      "text/plain": [
       "   RowNumber  CustomerId   Surname  CreditScore Geography  Gender  Age  \\\n",
       "0          1    15634602  Hargrave          619    France  Female   42   \n",
       "1          2    15647311      Hill          608     Spain  Female   41   \n",
       "2          3    15619304      Onio          502    France  Female   42   \n",
       "3          4    15701354      Boni          699    France  Female   39   \n",
       "4          5    15737888  Mitchell          850     Spain  Female   43   \n",
       "5          6    15574012       Chu          645     Spain    Male   44   \n",
       "6          7    15592531  Bartlett          822    France    Male   50   \n",
       "7          8    15656148    Obinna          376   Germany  Female   29   \n",
       "8          9    15792365        He          501    France    Male   44   \n",
       "9         10    15592389        H?          684    France    Male   27   \n",
       "\n",
       "   Tenure    Balance  NumOfProducts  HasCrCard  IsActiveMember  \\\n",
       "0     2.0       0.00              1          1               1   \n",
       "1     1.0   83807.86              1          0               1   \n",
       "2     8.0  159660.80              3          1               0   \n",
       "3     1.0       0.00              2          0               0   \n",
       "4     2.0  125510.82              1          1               1   \n",
       "5     8.0  113755.78              2          1               0   \n",
       "6     7.0       0.00              2          1               1   \n",
       "7     4.0  115046.74              4          1               0   \n",
       "8     4.0  142051.07              2          0               1   \n",
       "9     2.0  134603.88              1          1               1   \n",
       "\n",
       "   EstimatedSalary  Exited  \n",
       "0        101348.88       1  \n",
       "1        112542.58       0  \n",
       "2        113931.57       1  \n",
       "3         93826.63       0  \n",
       "4         79084.10       0  \n",
       "5        149756.71       1  \n",
       "6         10062.80       0  \n",
       "7        119346.88       1  \n",
       "8         74940.50       0  \n",
       "9         71725.73       0  "
      ]
     },
     "execution_count": 2,
     "metadata": {},
     "output_type": "execute_result"
    }
   ],
   "source": [
    "data.head(10)"
   ]
  },
  {
   "cell_type": "markdown",
   "metadata": {},
   "source": [
    "Убедимся, что нет дубликатов:"
   ]
  },
  {
   "cell_type": "code",
   "execution_count": 3,
   "metadata": {},
   "outputs": [
    {
     "data": {
      "text/plain": [
       "0"
      ]
     },
     "execution_count": 3,
     "metadata": {},
     "output_type": "execute_result"
    }
   ],
   "source": [
    "data.duplicated().sum()"
   ]
  },
  {
   "cell_type": "markdown",
   "metadata": {},
   "source": [
    "Убедимся, что нет дубликатов среди `CustomerId`"
   ]
  },
  {
   "cell_type": "code",
   "execution_count": 4,
   "metadata": {},
   "outputs": [
    {
     "data": {
      "text/plain": [
       "0"
      ]
     },
     "execution_count": 4,
     "metadata": {},
     "output_type": "execute_result"
    }
   ],
   "source": [
    "data['CustomerId'].duplicated().sum()"
   ]
  },
  {
   "cell_type": "markdown",
   "metadata": {},
   "source": [
    "Заметим, что фамилия, номер строки, ид клиента нам никак не должны помочь (очевидно, что эти данные никак не связаны с тем, уходит клиент или нет), удалим этот столбецы"
   ]
  },
  {
   "cell_type": "code",
   "execution_count": 5,
   "metadata": {},
   "outputs": [
    {
     "name": "stdout",
     "output_type": "stream",
     "text": [
      "<class 'pandas.core.frame.DataFrame'>\n",
      "RangeIndex: 10000 entries, 0 to 9999\n",
      "Data columns (total 11 columns):\n",
      " #   Column           Non-Null Count  Dtype  \n",
      "---  ------           --------------  -----  \n",
      " 0   CreditScore      10000 non-null  int64  \n",
      " 1   Geography        10000 non-null  object \n",
      " 2   Gender           10000 non-null  object \n",
      " 3   Age              10000 non-null  int64  \n",
      " 4   Tenure           9091 non-null   float64\n",
      " 5   Balance          10000 non-null  float64\n",
      " 6   NumOfProducts    10000 non-null  int64  \n",
      " 7   HasCrCard        10000 non-null  int64  \n",
      " 8   IsActiveMember   10000 non-null  int64  \n",
      " 9   EstimatedSalary  10000 non-null  float64\n",
      " 10  Exited           10000 non-null  int64  \n",
      "dtypes: float64(3), int64(6), object(2)\n",
      "memory usage: 859.5+ KB\n"
     ]
    }
   ],
   "source": [
    "data = data.drop(['Surname', 'RowNumber', 'CustomerId'], axis=1)\n",
    "data.info()"
   ]
  },
  {
   "cell_type": "markdown",
   "metadata": {},
   "source": [
    "Посмотрим на страны, которыми представлены клиенты:"
   ]
  },
  {
   "cell_type": "code",
   "execution_count": 6,
   "metadata": {},
   "outputs": [
    {
     "data": {
      "text/plain": [
       "array(['France', 'Spain', 'Germany'], dtype=object)"
      ]
     },
     "execution_count": 6,
     "metadata": {},
     "output_type": "execute_result"
    }
   ],
   "source": [
    "data['Geography'].unique()"
   ]
  },
  {
   "cell_type": "markdown",
   "metadata": {},
   "source": [
    "Убедимся, что пол представлен только двумя значениями:"
   ]
  },
  {
   "cell_type": "code",
   "execution_count": 7,
   "metadata": {},
   "outputs": [
    {
     "data": {
      "text/plain": [
       "array(['Female', 'Male'], dtype=object)"
      ]
     },
     "execution_count": 7,
     "metadata": {},
     "output_type": "execute_result"
    }
   ],
   "source": [
    "data['Gender'].unique()"
   ]
  },
  {
   "cell_type": "markdown",
   "metadata": {},
   "source": [
    "Посмотрим уникальные значения `Tenure`"
   ]
  },
  {
   "cell_type": "code",
   "execution_count": 8,
   "metadata": {},
   "outputs": [
    {
     "data": {
      "text/plain": [
       "array([ 2.,  1.,  8.,  7.,  4.,  6.,  3., 10.,  5.,  9.,  0., nan])"
      ]
     },
     "execution_count": 8,
     "metadata": {},
     "output_type": "execute_result"
    }
   ],
   "source": [
    "data['Tenure'].unique()"
   ]
  },
  {
   "cell_type": "code",
   "execution_count": 9,
   "metadata": {},
   "outputs": [
    {
     "data": {
      "text/html": [
       "<div>\n",
       "<style scoped>\n",
       "    .dataframe tbody tr th:only-of-type {\n",
       "        vertical-align: middle;\n",
       "    }\n",
       "\n",
       "    .dataframe tbody tr th {\n",
       "        vertical-align: top;\n",
       "    }\n",
       "\n",
       "    .dataframe thead th {\n",
       "        text-align: right;\n",
       "    }\n",
       "</style>\n",
       "<table border=\"1\" class=\"dataframe\">\n",
       "  <thead>\n",
       "    <tr style=\"text-align: right;\">\n",
       "      <th></th>\n",
       "      <th>CreditScore</th>\n",
       "      <th>Geography</th>\n",
       "      <th>Gender</th>\n",
       "      <th>Age</th>\n",
       "      <th>Tenure</th>\n",
       "      <th>Balance</th>\n",
       "      <th>NumOfProducts</th>\n",
       "      <th>HasCrCard</th>\n",
       "      <th>IsActiveMember</th>\n",
       "      <th>EstimatedSalary</th>\n",
       "      <th>Exited</th>\n",
       "    </tr>\n",
       "  </thead>\n",
       "  <tbody>\n",
       "    <tr>\n",
       "      <th>30</th>\n",
       "      <td>591</td>\n",
       "      <td>Spain</td>\n",
       "      <td>Female</td>\n",
       "      <td>39</td>\n",
       "      <td>NaN</td>\n",
       "      <td>0.00</td>\n",
       "      <td>3</td>\n",
       "      <td>1</td>\n",
       "      <td>0</td>\n",
       "      <td>140469.38</td>\n",
       "      <td>1</td>\n",
       "    </tr>\n",
       "    <tr>\n",
       "      <th>48</th>\n",
       "      <td>550</td>\n",
       "      <td>Germany</td>\n",
       "      <td>Male</td>\n",
       "      <td>38</td>\n",
       "      <td>NaN</td>\n",
       "      <td>103391.38</td>\n",
       "      <td>1</td>\n",
       "      <td>0</td>\n",
       "      <td>1</td>\n",
       "      <td>90878.13</td>\n",
       "      <td>0</td>\n",
       "    </tr>\n",
       "    <tr>\n",
       "      <th>51</th>\n",
       "      <td>585</td>\n",
       "      <td>Germany</td>\n",
       "      <td>Male</td>\n",
       "      <td>36</td>\n",
       "      <td>NaN</td>\n",
       "      <td>146050.97</td>\n",
       "      <td>2</td>\n",
       "      <td>0</td>\n",
       "      <td>0</td>\n",
       "      <td>86424.57</td>\n",
       "      <td>0</td>\n",
       "    </tr>\n",
       "    <tr>\n",
       "      <th>53</th>\n",
       "      <td>655</td>\n",
       "      <td>Germany</td>\n",
       "      <td>Male</td>\n",
       "      <td>41</td>\n",
       "      <td>NaN</td>\n",
       "      <td>125561.97</td>\n",
       "      <td>1</td>\n",
       "      <td>0</td>\n",
       "      <td>0</td>\n",
       "      <td>164040.94</td>\n",
       "      <td>1</td>\n",
       "    </tr>\n",
       "    <tr>\n",
       "      <th>60</th>\n",
       "      <td>742</td>\n",
       "      <td>Germany</td>\n",
       "      <td>Male</td>\n",
       "      <td>35</td>\n",
       "      <td>NaN</td>\n",
       "      <td>136857.00</td>\n",
       "      <td>1</td>\n",
       "      <td>0</td>\n",
       "      <td>0</td>\n",
       "      <td>84509.57</td>\n",
       "      <td>0</td>\n",
       "    </tr>\n",
       "    <tr>\n",
       "      <th>...</th>\n",
       "      <td>...</td>\n",
       "      <td>...</td>\n",
       "      <td>...</td>\n",
       "      <td>...</td>\n",
       "      <td>...</td>\n",
       "      <td>...</td>\n",
       "      <td>...</td>\n",
       "      <td>...</td>\n",
       "      <td>...</td>\n",
       "      <td>...</td>\n",
       "      <td>...</td>\n",
       "    </tr>\n",
       "    <tr>\n",
       "      <th>9944</th>\n",
       "      <td>744</td>\n",
       "      <td>Germany</td>\n",
       "      <td>Male</td>\n",
       "      <td>41</td>\n",
       "      <td>NaN</td>\n",
       "      <td>190409.34</td>\n",
       "      <td>2</td>\n",
       "      <td>1</td>\n",
       "      <td>1</td>\n",
       "      <td>138361.48</td>\n",
       "      <td>0</td>\n",
       "    </tr>\n",
       "    <tr>\n",
       "      <th>9956</th>\n",
       "      <td>520</td>\n",
       "      <td>France</td>\n",
       "      <td>Female</td>\n",
       "      <td>46</td>\n",
       "      <td>NaN</td>\n",
       "      <td>85216.61</td>\n",
       "      <td>1</td>\n",
       "      <td>1</td>\n",
       "      <td>0</td>\n",
       "      <td>117369.52</td>\n",
       "      <td>1</td>\n",
       "    </tr>\n",
       "    <tr>\n",
       "      <th>9964</th>\n",
       "      <td>479</td>\n",
       "      <td>France</td>\n",
       "      <td>Male</td>\n",
       "      <td>34</td>\n",
       "      <td>NaN</td>\n",
       "      <td>117593.48</td>\n",
       "      <td>2</td>\n",
       "      <td>0</td>\n",
       "      <td>0</td>\n",
       "      <td>113308.29</td>\n",
       "      <td>0</td>\n",
       "    </tr>\n",
       "    <tr>\n",
       "      <th>9985</th>\n",
       "      <td>659</td>\n",
       "      <td>France</td>\n",
       "      <td>Male</td>\n",
       "      <td>36</td>\n",
       "      <td>NaN</td>\n",
       "      <td>123841.49</td>\n",
       "      <td>2</td>\n",
       "      <td>1</td>\n",
       "      <td>0</td>\n",
       "      <td>96833.00</td>\n",
       "      <td>0</td>\n",
       "    </tr>\n",
       "    <tr>\n",
       "      <th>9999</th>\n",
       "      <td>792</td>\n",
       "      <td>France</td>\n",
       "      <td>Female</td>\n",
       "      <td>28</td>\n",
       "      <td>NaN</td>\n",
       "      <td>130142.79</td>\n",
       "      <td>1</td>\n",
       "      <td>1</td>\n",
       "      <td>0</td>\n",
       "      <td>38190.78</td>\n",
       "      <td>0</td>\n",
       "    </tr>\n",
       "  </tbody>\n",
       "</table>\n",
       "<p>909 rows × 11 columns</p>\n",
       "</div>"
      ],
      "text/plain": [
       "      CreditScore Geography  Gender  Age  Tenure    Balance  NumOfProducts  \\\n",
       "30            591     Spain  Female   39     NaN       0.00              3   \n",
       "48            550   Germany    Male   38     NaN  103391.38              1   \n",
       "51            585   Germany    Male   36     NaN  146050.97              2   \n",
       "53            655   Germany    Male   41     NaN  125561.97              1   \n",
       "60            742   Germany    Male   35     NaN  136857.00              1   \n",
       "...           ...       ...     ...  ...     ...        ...            ...   \n",
       "9944          744   Germany    Male   41     NaN  190409.34              2   \n",
       "9956          520    France  Female   46     NaN   85216.61              1   \n",
       "9964          479    France    Male   34     NaN  117593.48              2   \n",
       "9985          659    France    Male   36     NaN  123841.49              2   \n",
       "9999          792    France  Female   28     NaN  130142.79              1   \n",
       "\n",
       "      HasCrCard  IsActiveMember  EstimatedSalary  Exited  \n",
       "30            1               0        140469.38       1  \n",
       "48            0               1         90878.13       0  \n",
       "51            0               0         86424.57       0  \n",
       "53            0               0        164040.94       1  \n",
       "60            0               0         84509.57       0  \n",
       "...         ...             ...              ...     ...  \n",
       "9944          1               1        138361.48       0  \n",
       "9956          1               0        117369.52       1  \n",
       "9964          0               0        113308.29       0  \n",
       "9985          1               0         96833.00       0  \n",
       "9999          1               0         38190.78       0  \n",
       "\n",
       "[909 rows x 11 columns]"
      ]
     },
     "execution_count": 9,
     "metadata": {},
     "output_type": "execute_result"
    }
   ],
   "source": [
    "data[data['Tenure'].isna()]"
   ]
  },
  {
   "cell_type": "markdown",
   "metadata": {},
   "source": [
    "У нас около 9% клиентов без значения `Tenure`. Причины не ясны, по значениям видно, что есть значения от 0 до 10 включая, а значит заполнить какими-то данными мы не можем (например 0), оставим пока что как есть"
   ]
  },
  {
   "cell_type": "markdown",
   "metadata": {},
   "source": [
    "Проверим значения продуктов банка, изпользуемых клиентами:"
   ]
  },
  {
   "cell_type": "code",
   "execution_count": 10,
   "metadata": {},
   "outputs": [
    {
     "data": {
      "text/plain": [
       "array([1, 3, 2, 4])"
      ]
     },
     "execution_count": 10,
     "metadata": {},
     "output_type": "execute_result"
    }
   ],
   "source": [
    "data['NumOfProducts'].unique()"
   ]
  },
  {
   "cell_type": "markdown",
   "metadata": {},
   "source": [
    "А также булевы значения: `IsActiveMember`, `HasCrCard`, `Exited`"
   ]
  },
  {
   "cell_type": "code",
   "execution_count": 11,
   "metadata": {},
   "outputs": [
    {
     "data": {
      "text/plain": [
       "array([1, 0])"
      ]
     },
     "execution_count": 11,
     "metadata": {},
     "output_type": "execute_result"
    }
   ],
   "source": [
    "data['HasCrCard'].unique()"
   ]
  },
  {
   "cell_type": "code",
   "execution_count": 12,
   "metadata": {},
   "outputs": [
    {
     "data": {
      "text/plain": [
       "array([1, 0])"
      ]
     },
     "execution_count": 12,
     "metadata": {},
     "output_type": "execute_result"
    }
   ],
   "source": [
    "data['IsActiveMember'].unique()"
   ]
  },
  {
   "cell_type": "code",
   "execution_count": 13,
   "metadata": {},
   "outputs": [
    {
     "data": {
      "text/plain": [
       "array([1, 0])"
      ]
     },
     "execution_count": 13,
     "metadata": {},
     "output_type": "execute_result"
    }
   ],
   "source": [
    "data['Exited'].unique()"
   ]
  },
  {
   "cell_type": "markdown",
   "metadata": {},
   "source": [
    "**Вывод:** перед нами датасет с 10 000 записями, дубликатов нет, неявных дубликатов тоже нет. Удалили столбецы с фамилией, номером строки и ид, они нам не помогут. Пользователи из трех стран: Франция, Испания, Герамания. Столбец `Tenure` содержит пропуски, заполнить их не представляется возможным."
   ]
  },
  {
   "cell_type": "markdown",
   "metadata": {},
   "source": [
    "Примемим технику прямого кодирования для столбцов: `Geography`, `Gender`, `Tenure`, `NumOfProducts`"
   ]
  },
  {
   "cell_type": "code",
   "execution_count": 14,
   "metadata": {},
   "outputs": [],
   "source": [
    "data = pd.get_dummies(data, drop_first=True, columns=['Geography', 'Gender', 'Tenure', 'NumOfProducts'])"
   ]
  },
  {
   "cell_type": "markdown",
   "metadata": {},
   "source": [
    "Разделим датасет на 3 части: обучающая, валидационная, тестовая - в процентом отношении 60%, 20% и 20% соответственно"
   ]
  },
  {
   "cell_type": "code",
   "execution_count": 15,
   "metadata": {},
   "outputs": [],
   "source": [
    "features = data.drop('Exited', axis=1)\n",
    "target = data['Exited']\n",
    "\n",
    "features_train, features_valid, target_train, target_valid = train_test_split(\n",
    "    features, \n",
    "    target, \n",
    "    test_size=0.4, \n",
    "    random_state=42\n",
    ")\n",
    "    \n",
    "features_valid, features_test, target_valid, target_test = train_test_split(\n",
    "    features_valid, \n",
    "    target_valid, \n",
    "    test_size=0.5, \n",
    "    random_state=42\n",
    ")"
   ]
  },
  {
   "cell_type": "code",
   "execution_count": 16,
   "metadata": {},
   "outputs": [
    {
     "data": {
      "text/plain": [
       "(6000, 22)"
      ]
     },
     "metadata": {},
     "output_type": "display_data"
    },
    {
     "data": {
      "text/plain": [
       "(2000, 22)"
      ]
     },
     "metadata": {},
     "output_type": "display_data"
    },
    {
     "data": {
      "text/plain": [
       "(2000, 22)"
      ]
     },
     "execution_count": 16,
     "metadata": {},
     "output_type": "execute_result"
    }
   ],
   "source": [
    "display(features_train.shape)\n",
    "display(features_valid.shape)\n",
    "features_test.shape"
   ]
  },
  {
   "cell_type": "markdown",
   "metadata": {},
   "source": [
    "**Вывод:** дубликотов в исходном массиве данных нет; столбцы фамилия, номер строки и ид клиента мы удалили, потому что они никак не помогают обучению. Применили технику прямого кодирования к столбцам: Geography, Gender, Tenure, NumOfProducts. Разбили исходный датасет на 3 части: обучающая, валидационная, тестовая - в процентом отношении 60%, 20% и 20% соответственно"
   ]
  },
  {
   "cell_type": "markdown",
   "metadata": {},
   "source": [
    "## Исследование моделей"
   ]
  },
  {
   "cell_type": "markdown",
   "metadata": {},
   "source": [
    "Обучим решающее дерево с разным набором параметров."
   ]
  },
  {
   "cell_type": "code",
   "execution_count": 17,
   "metadata": {},
   "outputs": [
    {
     "data": {
      "text/plain": [
       "0.5266666666666666"
      ]
     },
     "execution_count": 17,
     "metadata": {},
     "output_type": "execute_result"
    }
   ],
   "source": [
    "def get_best_decision_tree_classifier(features_train, target_train, features_valid, target_valid):\n",
    "    best_model = None\n",
    "    best_result = 0\n",
    "    for depth in range(1, 21):\n",
    "        for min_samples_leaf in range(1, 10):\n",
    "            model = DecisionTreeClassifier(\n",
    "                random_state=42, \n",
    "                max_depth=depth, \n",
    "                min_samples_leaf=min_samples_leaf\n",
    "            )\n",
    "            model.fit(features_train, target_train) \n",
    "            predictions_valid = model.predict(features_valid) \n",
    "            result = f1_score(target_valid, predictions_valid)\n",
    "            if result > best_result:\n",
    "                best_result = result\n",
    "                best_model = model\n",
    "                \n",
    "    return best_model\n",
    "\n",
    "model = get_best_decision_tree_classifier(features_train, target_train, features_valid, target_valid)\n",
    "predictions_valid = model.predict(features_valid) \n",
    "f1_score(target_valid, predictions_valid)"
   ]
  },
  {
   "cell_type": "markdown",
   "metadata": {},
   "source": [
    "**Вывод:** для решающего дерева глубиной 7 с критерием entropy, мы получили лучший результат **f1: 0.56**"
   ]
  },
  {
   "cell_type": "code",
   "execution_count": 18,
   "metadata": {},
   "outputs": [
    {
     "data": {
      "text/plain": [
       "0.8087857374918778"
      ]
     },
     "execution_count": 18,
     "metadata": {},
     "output_type": "execute_result"
    }
   ],
   "source": [
    "def get_roc_auc_score(model, features, target):\n",
    "    probabilities = model.predict_proba(features)\n",
    "    return roc_auc_score(target, probabilities[:, 1])\n",
    "\n",
    "get_roc_auc_score(model, features_valid, target_valid)"
   ]
  },
  {
   "cell_type": "markdown",
   "metadata": {},
   "source": [
    "**Вывод:** для решающего дерева глубиной 7 с критерием entropy, мы получили **roc_auc_score: 0.81**"
   ]
  },
  {
   "cell_type": "markdown",
   "metadata": {},
   "source": [
    "Обучим случайный лес с разным набором параметров:"
   ]
  },
  {
   "cell_type": "code",
   "execution_count": 19,
   "metadata": {},
   "outputs": [
    {
     "data": {
      "text/plain": [
       "0.570957095709571"
      ]
     },
     "execution_count": 19,
     "metadata": {},
     "output_type": "execute_result"
    }
   ],
   "source": [
    "def get_best_random_forest_classifier(features_train, target_train, features_valid, target_valid):\n",
    "    best_model = None\n",
    "    best_result = 0\n",
    "          \n",
    "    for max_depth in range(1, 21):    \n",
    "        for n_estimators in range(20, 125, 1):\n",
    "            model = RandomForestClassifier(\n",
    "                random_state=42, \n",
    "                n_estimators=n_estimators,\n",
    "                max_depth=max_depth\n",
    "            ) \n",
    "            model.fit(features_train, target_train)\n",
    "            predictions_valid = model.predict(features_valid) \n",
    "            result = f1_score(target_valid, predictions_valid)\n",
    "            if result > best_result:\n",
    "                best_result = result\n",
    "                best_model = model\n",
    "                \n",
    "    return best_model\n",
    "    \n",
    "model = get_best_random_forest_classifier(features_train, target_train, features_valid, target_valid)\n",
    "predictions_valid = model.predict(features_valid) \n",
    "f1_score(target_valid, predictions_valid)"
   ]
  },
  {
   "cell_type": "markdown",
   "metadata": {},
   "source": [
    "**Вывод:** для случайного леса мы получили лучший результат **f1: 0.56**"
   ]
  },
  {
   "cell_type": "code",
   "execution_count": 20,
   "metadata": {},
   "outputs": [
    {
     "data": {
      "text/plain": [
       "0.8371093242365171"
      ]
     },
     "execution_count": 20,
     "metadata": {},
     "output_type": "execute_result"
    }
   ],
   "source": [
    "get_roc_auc_score(model, features_valid, target_valid)"
   ]
  },
  {
   "cell_type": "markdown",
   "metadata": {},
   "source": [
    "**Вывод:** для случайного леса мы получили **roc_auc_score: 0.83**"
   ]
  },
  {
   "cell_type": "markdown",
   "metadata": {},
   "source": [
    "## Борьба с дисбалансом"
   ]
  },
  {
   "cell_type": "code",
   "execution_count": 21,
   "metadata": {},
   "outputs": [
    {
     "data": {
      "text/plain": [
       "0    7963\n",
       "1    2037\n",
       "Name: Exited, dtype: int64"
      ]
     },
     "execution_count": 21,
     "metadata": {},
     "output_type": "execute_result"
    }
   ],
   "source": [
    "data['Exited'].value_counts()"
   ]
  },
  {
   "cell_type": "code",
   "execution_count": 22,
   "metadata": {},
   "outputs": [],
   "source": [
    "def upsample(features, target, repeat):\n",
    "    features_zeros = features[target == 0]\n",
    "    features_ones = features[target == 1]\n",
    "    target_zeros = target[target == 0]\n",
    "    target_ones = target[target == 1]\n",
    "\n",
    "    features_upsampled = pd.concat([features_zeros] + [features_ones] * repeat)\n",
    "    target_upsampled = pd.concat([target_zeros] + [target_ones] * repeat)\n",
    "    \n",
    "    features_upsampled, target_upsampled = shuffle(\n",
    "        features_upsampled, target_upsampled, random_state=42)\n",
    "    \n",
    "    return features_upsampled, target_upsampled\n",
    "\n",
    "def downsample(features, target, fraction):\n",
    "    features_zeros = features[target == 0]\n",
    "    features_ones = features[target == 1]\n",
    "    target_zeros = target[target == 0]\n",
    "    target_ones = target[target == 1]\n",
    "\n",
    "    features_downsampled = pd.concat(\n",
    "        [features_zeros.sample(frac=fraction, random_state=42)] + [features_ones])\n",
    "    target_downsampled = pd.concat(\n",
    "        [target_zeros.sample(frac=fraction, random_state=42)] + [target_ones])\n",
    "    \n",
    "    features_downsampled, target_downsampled = shuffle(\n",
    "        features_downsampled, target_downsampled, random_state=42)\n",
    "    \n",
    "    return features_downsampled, target_downsampled"
   ]
  },
  {
   "cell_type": "code",
   "execution_count": 23,
   "metadata": {},
   "outputs": [
    {
     "data": {
      "text/plain": [
       "({'ccp_alpha': 0.0,\n",
       "  'class_weight': None,\n",
       "  'criterion': 'gini',\n",
       "  'max_depth': 7,\n",
       "  'max_features': None,\n",
       "  'max_leaf_nodes': None,\n",
       "  'min_impurity_decrease': 0.0,\n",
       "  'min_impurity_split': None,\n",
       "  'min_samples_leaf': 7,\n",
       "  'min_samples_split': 2,\n",
       "  'min_weight_fraction_leaf': 0.0,\n",
       "  'random_state': 42,\n",
       "  'splitter': 'best'},\n",
       " 0.522837706511176,\n",
       " 0.8038084795321638)"
      ]
     },
     "execution_count": 23,
     "metadata": {},
     "output_type": "execute_result"
    }
   ],
   "source": [
    "best_models = []\n",
    "features_upsampled, target_upsampled = upsample(features_train, target_train, 4)\n",
    "\n",
    "model = get_best_decision_tree_classifier(features_upsampled, target_upsampled, features_valid, target_valid)\n",
    "predictions_valid = model.predict(features_valid) \n",
    "result = f1_score(target_valid, predictions_valid)\n",
    "        \n",
    "best_models.append(model)\n",
    "roc_auc = get_roc_auc_score(model, features_valid, target_valid)\n",
    "model.get_params(), result, roc_auc"
   ]
  },
  {
   "cell_type": "markdown",
   "metadata": {},
   "source": [
    "При увеличении выборки мы не добились результата, лучшее решающее дерево с максимальной глубиной 7 и результатом 0,52. AUC-ROC = 0.80"
   ]
  },
  {
   "cell_type": "code",
   "execution_count": 24,
   "metadata": {},
   "outputs": [
    {
     "data": {
      "text/plain": [
       "({'ccp_alpha': 0.0,\n",
       "  'class_weight': None,\n",
       "  'criterion': 'gini',\n",
       "  'max_depth': 7,\n",
       "  'max_features': None,\n",
       "  'max_leaf_nodes': None,\n",
       "  'min_impurity_decrease': 0.0,\n",
       "  'min_impurity_split': None,\n",
       "  'min_samples_leaf': 6,\n",
       "  'min_samples_split': 2,\n",
       "  'min_weight_fraction_leaf': 0.0,\n",
       "  'random_state': 42,\n",
       "  'splitter': 'best'},\n",
       " 0.5229885057471264,\n",
       " 0.805921052631579)"
      ]
     },
     "execution_count": 24,
     "metadata": {},
     "output_type": "execute_result"
    }
   ],
   "source": [
    "features_downsampled, target_downsampled = downsample(features_train, target_train, 0.25)\n",
    "\n",
    "model = get_best_decision_tree_classifier(features_downsampled, target_downsampled, features_valid, target_valid)\n",
    "predictions_valid = model.predict(features_valid) \n",
    "result = f1_score(target_valid, predictions_valid)\n",
    "        \n",
    "best_models.append(model)\n",
    "roc_auc = get_roc_auc_score(model, features_valid, target_valid)\n",
    "model.get_params(), result, roc_auc"
   ]
  },
  {
   "cell_type": "markdown",
   "metadata": {},
   "source": [
    "Можем заметить, что если мы уменьшим выборку тех, клиентов, которые остались (оставив только 25% от первоначального числа), то для решающего дерева мы получим лучший результат 0.52, что так же хуже результута без всяких изменений выборки. AUC-ROC = 0.80"
   ]
  },
  {
   "cell_type": "code",
   "execution_count": 25,
   "metadata": {},
   "outputs": [
    {
     "data": {
      "text/plain": [
       "({'bootstrap': True,\n",
       "  'ccp_alpha': 0.0,\n",
       "  'class_weight': None,\n",
       "  'criterion': 'gini',\n",
       "  'max_depth': 17,\n",
       "  'max_features': 'auto',\n",
       "  'max_leaf_nodes': None,\n",
       "  'max_samples': None,\n",
       "  'min_impurity_decrease': 0.0,\n",
       "  'min_impurity_split': None,\n",
       "  'min_samples_leaf': 1,\n",
       "  'min_samples_split': 2,\n",
       "  'min_weight_fraction_leaf': 0.0,\n",
       "  'n_estimators': 40,\n",
       "  'n_jobs': None,\n",
       "  'oob_score': False,\n",
       "  'random_state': 42,\n",
       "  'verbose': 0,\n",
       "  'warm_start': False},\n",
       " 0.5970937912813739,\n",
       " 0.8402038661468486)"
      ]
     },
     "execution_count": 25,
     "metadata": {},
     "output_type": "execute_result"
    }
   ],
   "source": [
    "features_upsampled, target_upsampled = upsample(features_train, target_train, 4)\n",
    "\n",
    "model = get_best_random_forest_classifier(features_upsampled, target_upsampled, features_valid, target_valid)\n",
    "predictions_valid = model.predict(features_valid) \n",
    "result = f1_score(target_valid, predictions_valid)\n",
    "        \n",
    "best_models.append(model)\n",
    "roc_auc = get_roc_auc_score(model, features_valid, target_valid)\n",
    "model.get_params(), result, roc_auc"
   ]
  },
  {
   "cell_type": "markdown",
   "metadata": {},
   "source": [
    "Видим, что удалось достигнуть наилучшей оценки в 0.597 для случайного леса с 40 n_estimators и max_depth = 17. \"Апскейлить\" пришлось в 4 раза. AUC-ROC = 0.84"
   ]
  },
  {
   "cell_type": "code",
   "execution_count": 26,
   "metadata": {},
   "outputs": [
    {
     "data": {
      "text/plain": [
       "({'bootstrap': True,\n",
       "  'ccp_alpha': 0.0,\n",
       "  'class_weight': None,\n",
       "  'criterion': 'gini',\n",
       "  'max_depth': 19,\n",
       "  'max_features': 'auto',\n",
       "  'max_leaf_nodes': None,\n",
       "  'max_samples': None,\n",
       "  'min_impurity_decrease': 0.0,\n",
       "  'min_impurity_split': None,\n",
       "  'min_samples_leaf': 1,\n",
       "  'min_samples_split': 2,\n",
       "  'min_weight_fraction_leaf': 0.0,\n",
       "  'n_estimators': 95,\n",
       "  'n_jobs': None,\n",
       "  'oob_score': False,\n",
       "  'random_state': 42,\n",
       "  'verbose': 0,\n",
       "  'warm_start': False},\n",
       " 0.555229716520039,\n",
       " 0.8341804743339831)"
      ]
     },
     "execution_count": 26,
     "metadata": {},
     "output_type": "execute_result"
    }
   ],
   "source": [
    "features_downsampled, target_downsampled = downsample(features_train, target_train, 0.25)\n",
    "\n",
    "model = get_best_random_forest_classifier(features_downsampled, target_downsampled, features_valid, target_valid)\n",
    "predictions_valid = model.predict(features_valid) \n",
    "result = f1_score(target_valid, predictions_valid)\n",
    "        \n",
    "best_models.append(model)\n",
    "roc_auc = get_roc_auc_score(model, features_valid, target_valid)\n",
    "model.get_params(), result, roc_auc"
   ]
  },
  {
   "cell_type": "markdown",
   "metadata": {},
   "source": [
    "Можем заметить, что если мы уменьшим выборку тех, клиентов, которые остались (оставив только 25% от первоначального числа), то для случайного леса мы получим наилучший результат 0.555, что даже выше, чем требовалось. А вот AUC-ROC = 0.838, что ниже, чем у модели выше"
   ]
  },
  {
   "cell_type": "markdown",
   "metadata": {},
   "source": [
    "Вывод: мы использовали два метода для борьбы с дисбалансом: увеличение выборки и уменьшение выборки"
   ]
  },
  {
   "cell_type": "markdown",
   "metadata": {},
   "source": [
    "## Тестирование модели"
   ]
  },
  {
   "cell_type": "markdown",
   "metadata": {},
   "source": [
    "Протестируем все лучшие модели, выведем их параметры и оценки"
   ]
  },
  {
   "cell_type": "code",
   "execution_count": 27,
   "metadata": {},
   "outputs": [
    {
     "data": {
      "text/plain": [
       "{'ccp_alpha': 0.0,\n",
       " 'class_weight': None,\n",
       " 'criterion': 'gini',\n",
       " 'max_depth': 7,\n",
       " 'max_features': None,\n",
       " 'max_leaf_nodes': None,\n",
       " 'min_impurity_decrease': 0.0,\n",
       " 'min_impurity_split': None,\n",
       " 'min_samples_leaf': 7,\n",
       " 'min_samples_split': 2,\n",
       " 'min_weight_fraction_leaf': 0.0,\n",
       " 'random_state': 42,\n",
       " 'splitter': 'best'}"
      ]
     },
     "metadata": {},
     "output_type": "display_data"
    },
    {
     "data": {
      "text/plain": [
       "0.594642857142857"
      ]
     },
     "metadata": {},
     "output_type": "display_data"
    },
    {
     "data": {
      "text/plain": [
       "0.8245571026514589"
      ]
     },
     "metadata": {},
     "output_type": "display_data"
    },
    {
     "data": {
      "text/plain": [
       "{'ccp_alpha': 0.0,\n",
       " 'class_weight': None,\n",
       " 'criterion': 'gini',\n",
       " 'max_depth': 7,\n",
       " 'max_features': None,\n",
       " 'max_leaf_nodes': None,\n",
       " 'min_impurity_decrease': 0.0,\n",
       " 'min_impurity_split': None,\n",
       " 'min_samples_leaf': 6,\n",
       " 'min_samples_split': 2,\n",
       " 'min_weight_fraction_leaf': 0.0,\n",
       " 'random_state': 42,\n",
       " 'splitter': 'best'}"
      ]
     },
     "metadata": {},
     "output_type": "display_data"
    },
    {
     "data": {
      "text/plain": [
       "0.5691489361702128"
      ]
     },
     "metadata": {},
     "output_type": "display_data"
    },
    {
     "data": {
      "text/plain": [
       "0.805057769219375"
      ]
     },
     "metadata": {},
     "output_type": "display_data"
    },
    {
     "data": {
      "text/plain": [
       "{'bootstrap': True,\n",
       " 'ccp_alpha': 0.0,\n",
       " 'class_weight': None,\n",
       " 'criterion': 'gini',\n",
       " 'max_depth': 17,\n",
       " 'max_features': 'auto',\n",
       " 'max_leaf_nodes': None,\n",
       " 'max_samples': None,\n",
       " 'min_impurity_decrease': 0.0,\n",
       " 'min_impurity_split': None,\n",
       " 'min_samples_leaf': 1,\n",
       " 'min_samples_split': 2,\n",
       " 'min_weight_fraction_leaf': 0.0,\n",
       " 'n_estimators': 40,\n",
       " 'n_jobs': None,\n",
       " 'oob_score': False,\n",
       " 'random_state': 42,\n",
       " 'verbose': 0,\n",
       " 'warm_start': False}"
      ]
     },
     "metadata": {},
     "output_type": "display_data"
    },
    {
     "data": {
      "text/plain": [
       "0.6269368295589988"
      ]
     },
     "metadata": {},
     "output_type": "display_data"
    },
    {
     "data": {
      "text/plain": [
       "0.8643956450896163"
      ]
     },
     "metadata": {},
     "output_type": "display_data"
    },
    {
     "data": {
      "text/plain": [
       "{'bootstrap': True,\n",
       " 'ccp_alpha': 0.0,\n",
       " 'class_weight': None,\n",
       " 'criterion': 'gini',\n",
       " 'max_depth': 19,\n",
       " 'max_features': 'auto',\n",
       " 'max_leaf_nodes': None,\n",
       " 'max_samples': None,\n",
       " 'min_impurity_decrease': 0.0,\n",
       " 'min_impurity_split': None,\n",
       " 'min_samples_leaf': 1,\n",
       " 'min_samples_split': 2,\n",
       " 'min_weight_fraction_leaf': 0.0,\n",
       " 'n_estimators': 95,\n",
       " 'n_jobs': None,\n",
       " 'oob_score': False,\n",
       " 'random_state': 42,\n",
       " 'verbose': 0,\n",
       " 'warm_start': False}"
      ]
     },
     "metadata": {},
     "output_type": "display_data"
    },
    {
     "data": {
      "text/plain": [
       "0.6106594399277325"
      ]
     },
     "metadata": {},
     "output_type": "display_data"
    },
    {
     "data": {
      "text/plain": [
       "0.858437268552807"
      ]
     },
     "metadata": {},
     "output_type": "display_data"
    }
   ],
   "source": [
    "for model in best_models:\n",
    "    predictions_test = model.predict(features_test) \n",
    "    result = f1_score(target_test, predictions_test)\n",
    "    roc_auc = get_roc_auc_score(model, features_test, target_test)\n",
    "    display(model.get_params(), result, roc_auc)"
   ]
  },
  {
   "cell_type": "markdown",
   "metadata": {},
   "source": [
    "Вывод: выяснилось, что все модели показали результат выше нужного, но лучше всех справился случайный лес с максимальной глубиной 17, и n_estimators=40, обученной на уменьшенной выборке в 50%. Его результат 0.626. Лучший AUC-ROC = 0.864 у этой же модели"
   ]
  },
  {
   "cell_type": "code",
   "execution_count": 32,
   "metadata": {},
   "outputs": [
    {
     "data": {
      "text/plain": [
       "0.35390946502057613"
      ]
     },
     "execution_count": 32,
     "metadata": {},
     "output_type": "execute_result"
    }
   ],
   "source": [
    "dummy_model = DummyClassifier(strategy='constant', constant=1)\n",
    "dummy_model.fit(features_train, target_train)\n",
    "f1_score(dummy_model.predict(features_test), target_test)"
   ]
  },
  {
   "cell_type": "markdown",
   "metadata": {},
   "source": [
    "**Вывод:** на дамми-модели мы получаем f1_score = 0.35, что заметно ниже наших лучших оценок. Проверку на адекватность наши модели прошли"
   ]
  },
  {
   "cell_type": "markdown",
   "metadata": {},
   "source": [
    "## Чек-лист готовности проекта"
   ]
  },
  {
   "cell_type": "markdown",
   "metadata": {},
   "source": [
    "Поставьте 'x' в выполненных пунктах. Далее нажмите Shift+Enter."
   ]
  },
  {
   "cell_type": "markdown",
   "metadata": {},
   "source": [
    "- [x]  Jupyter Notebook открыт\n",
    "- [x]  Весь код выполняется без ошибок\n",
    "- [x]  Ячейки с кодом расположены в порядке исполнения\n",
    "- [x]  Выполнен шаг 1: данные подготовлены\n",
    "- [x]  Выполнен шаг 2: задача исследована\n",
    "    - [x]  Исследован баланс классов\n",
    "    - [x]  Изучены модели без учёта дисбаланса\n",
    "    - [x]  Написаны выводы по результатам исследования\n",
    "- [x]  Выполнен шаг 3: учтён дисбаланс\n",
    "    - [x]  Применено несколько способов борьбы с дисбалансом\n",
    "    - [x]  Написаны выводы по результатам исследования\n",
    "- [x]  Выполнен шаг 4: проведено тестирование\n",
    "- [x]  Удалось достичь *F1*-меры не менее 0.59\n",
    "- [x]  Исследована метрика *AUC-ROC*"
   ]
  },
  {
   "cell_type": "markdown",
   "metadata": {},
   "source": [
    "## Общий вывод\n",
    "\n",
    "**Основные этапы исследования об оттоке клиентов Бета-Банка**\n",
    "1. Был выгружен один датасет с пользовательскими данными и тарифами: \n",
    "    \n",
    "    - `RowNumber` — индекс строки в данных\n",
    "    - `CustomerId` — уникальный идентификатор клиента\n",
    "    - `Surname` — фамилия\n",
    "    - `CreditScore` — кредитный рейтинг\n",
    "    - `Geography` — страна проживания\n",
    "    - `Gender` — пол\n",
    "    - `Age` — возраст\n",
    "    - `Tenure` — сколько лет человек является клиентом банка\n",
    "    - `Balance` — баланс на счёте\n",
    "    - `NumOfProducts` — количество продуктов банка, используемых клиентом\n",
    "    - `HasCrCard` — наличие кредитной карты\n",
    "    - `IsActiveMember` — активность клиента\n",
    "    - `EstimatedSalary` — предполагаемая зарплата\n",
    "    - `Exited` — факт ухода клиента (целевой признак)\n",
    "   \n",
    "2. В ходе работы разбили исходный датасет на 3 выборки:\n",
    "    - обучающая\n",
    "    - валидационная\n",
    "    - тестовая\n",
    "    \n",
    "    В процентном соотношении 60%, 20% и 20% соответственно\n",
    "3. Исследование модели\n",
    "    1. Решающее дерево\n",
    "        Обучили решающие деревья с различными параметрами и `random_state=42`\n",
    "        Решающее дерево глубиной 7 подошло лучше всего с f1=0,56 и ROC-AUC = 0.81\n",
    "    2. Случайный лес\n",
    "        Обучили несколько моделей с различными параметрами. На валидационной выборке, лучший результат f1=0,56 и ROC-AUC = 0.837\n",
    "    \n",
    "4. Борьба с дисбалансом\n",
    "    1. Сначала мы \"апскеили\" выборку клиентов, которые уходили из банка. Для решающего дерева и случайного леса мы увеличили выборку в 4 раза и обучали модели, лучшие добавили в отдельный список лучших\n",
    "    2. Далее мы случайным образом удаляли из выборки часть оставшихся клиентов, и обучали модели, удаляли 75%. Лучшие добавили в отдельный список лучших\n",
    "    \n",
    "5. Тетсирование моделей\n",
    "\n",
    "    Наилучий результат показала модель случайного леса с максимальной глубиной 17, и n_estimators=40, обученной на увеличенной выборке в 4 раза. Его результат f1 = 0.626. Лучший AUC-ROC у него же и равняется 0.866"
   ]
  }
 ],
 "metadata": {
  "ExecuteTimeLog": [
   {
    "duration": 494,
    "start_time": "2023-07-17T12:23:18.967Z"
   },
   {
    "duration": 625,
    "start_time": "2023-07-17T18:56:31.665Z"
   },
   {
    "duration": 27,
    "start_time": "2023-07-17T18:56:58.241Z"
   },
   {
    "duration": 19,
    "start_time": "2023-07-17T19:02:02.897Z"
   },
   {
    "duration": 12,
    "start_time": "2023-07-17T19:02:15.992Z"
   },
   {
    "duration": 7,
    "start_time": "2023-07-17T19:03:45.497Z"
   },
   {
    "duration": 6,
    "start_time": "2023-07-17T19:03:50.557Z"
   },
   {
    "duration": 5,
    "start_time": "2023-07-17T19:07:41.129Z"
   },
   {
    "duration": 5,
    "start_time": "2023-07-17T19:07:50.594Z"
   },
   {
    "duration": 5,
    "start_time": "2023-07-17T19:08:45.141Z"
   },
   {
    "duration": 85,
    "start_time": "2023-07-17T19:08:51.065Z"
   },
   {
    "duration": 15,
    "start_time": "2023-07-17T19:08:57.529Z"
   },
   {
    "duration": 5,
    "start_time": "2023-07-17T19:10:19.929Z"
   },
   {
    "duration": 9,
    "start_time": "2023-07-17T19:11:30.885Z"
   },
   {
    "duration": 7,
    "start_time": "2023-07-17T19:11:40.341Z"
   },
   {
    "duration": 9,
    "start_time": "2023-07-17T19:11:53.781Z"
   },
   {
    "duration": 5,
    "start_time": "2023-07-17T19:12:39.029Z"
   },
   {
    "duration": 11,
    "start_time": "2023-07-17T19:13:57.781Z"
   },
   {
    "duration": 15,
    "start_time": "2023-07-17T19:14:25.400Z"
   },
   {
    "duration": 7,
    "start_time": "2023-07-17T19:14:39.893Z"
   },
   {
    "duration": 26,
    "start_time": "2023-07-17T19:14:48.149Z"
   },
   {
    "duration": 10,
    "start_time": "2023-07-17T19:17:31.398Z"
   },
   {
    "duration": 5,
    "start_time": "2023-07-17T19:17:51.845Z"
   },
   {
    "duration": 115,
    "start_time": "2023-07-17T19:20:18.705Z"
   },
   {
    "duration": 6,
    "start_time": "2023-07-17T19:20:40.840Z"
   },
   {
    "duration": 5,
    "start_time": "2023-07-17T19:22:21.548Z"
   },
   {
    "duration": 5,
    "start_time": "2023-07-17T19:22:31.437Z"
   },
   {
    "duration": 5,
    "start_time": "2023-07-17T19:22:56.977Z"
   },
   {
    "duration": 135,
    "start_time": "2023-07-17T19:42:14.156Z"
   },
   {
    "duration": 17,
    "start_time": "2023-07-17T19:42:53.960Z"
   },
   {
    "duration": 138,
    "start_time": "2023-07-17T19:43:31.487Z"
   },
   {
    "duration": 831,
    "start_time": "2023-07-17T19:43:38.987Z"
   },
   {
    "duration": 61,
    "start_time": "2023-07-17T19:44:06.857Z"
   },
   {
    "duration": 4,
    "start_time": "2023-07-17T19:44:21.867Z"
   },
   {
    "duration": 5,
    "start_time": "2023-07-17T19:45:05.782Z"
   },
   {
    "duration": 13,
    "start_time": "2023-07-17T19:45:32.552Z"
   },
   {
    "duration": 7,
    "start_time": "2023-07-17T19:45:34.481Z"
   },
   {
    "duration": 11,
    "start_time": "2023-07-17T19:45:46.120Z"
   },
   {
    "duration": 7,
    "start_time": "2023-07-17T19:45:49.452Z"
   },
   {
    "duration": 11,
    "start_time": "2023-07-17T19:46:07.926Z"
   },
   {
    "duration": 8,
    "start_time": "2023-07-17T19:46:09.779Z"
   },
   {
    "duration": 7,
    "start_time": "2023-07-17T19:46:15.184Z"
   },
   {
    "duration": 7,
    "start_time": "2023-07-17T19:46:22.376Z"
   },
   {
    "duration": 37,
    "start_time": "2023-07-17T19:46:47.772Z"
   },
   {
    "duration": 7,
    "start_time": "2023-07-17T19:46:55.649Z"
   },
   {
    "duration": 7,
    "start_time": "2023-07-17T19:48:46.749Z"
   },
   {
    "duration": 19,
    "start_time": "2023-07-17T19:55:20.163Z"
   },
   {
    "duration": 452,
    "start_time": "2023-07-17T19:55:27.610Z"
   },
   {
    "duration": 25,
    "start_time": "2023-07-17T19:55:28.064Z"
   },
   {
    "duration": 14,
    "start_time": "2023-07-17T19:55:28.091Z"
   },
   {
    "duration": 6,
    "start_time": "2023-07-17T19:55:28.107Z"
   },
   {
    "duration": 15,
    "start_time": "2023-07-17T19:55:28.114Z"
   },
   {
    "duration": 37,
    "start_time": "2023-07-17T19:55:28.132Z"
   },
   {
    "duration": 5,
    "start_time": "2023-07-17T19:55:28.171Z"
   },
   {
    "duration": 11,
    "start_time": "2023-07-17T19:55:28.178Z"
   },
   {
    "duration": 32,
    "start_time": "2023-07-17T19:55:28.191Z"
   },
   {
    "duration": 5,
    "start_time": "2023-07-17T19:55:28.225Z"
   },
   {
    "duration": 5,
    "start_time": "2023-07-17T19:55:28.275Z"
   },
   {
    "duration": 6,
    "start_time": "2023-07-17T19:55:28.283Z"
   },
   {
    "duration": 20,
    "start_time": "2023-07-17T19:55:28.291Z"
   },
   {
    "duration": 879,
    "start_time": "2023-07-17T19:55:28.313Z"
   },
   {
    "duration": 8,
    "start_time": "2023-07-17T19:55:29.195Z"
   },
   {
    "duration": 24,
    "start_time": "2023-07-17T19:55:29.205Z"
   },
   {
    "duration": 13,
    "start_time": "2023-07-17T20:00:21.642Z"
   },
   {
    "duration": 465,
    "start_time": "2023-07-17T20:00:27.979Z"
   },
   {
    "duration": 23,
    "start_time": "2023-07-17T20:00:28.446Z"
   },
   {
    "duration": 19,
    "start_time": "2023-07-17T20:00:28.471Z"
   },
   {
    "duration": 5,
    "start_time": "2023-07-17T20:00:28.492Z"
   },
   {
    "duration": 17,
    "start_time": "2023-07-17T20:00:28.499Z"
   },
   {
    "duration": 5,
    "start_time": "2023-07-17T20:00:28.517Z"
   },
   {
    "duration": 9,
    "start_time": "2023-07-17T20:00:28.524Z"
   },
   {
    "duration": 25,
    "start_time": "2023-07-17T20:00:28.535Z"
   },
   {
    "duration": 28,
    "start_time": "2023-07-17T20:00:28.561Z"
   },
   {
    "duration": 5,
    "start_time": "2023-07-17T20:00:28.590Z"
   },
   {
    "duration": 11,
    "start_time": "2023-07-17T20:00:28.596Z"
   },
   {
    "duration": 9,
    "start_time": "2023-07-17T20:00:28.609Z"
   },
   {
    "duration": 6,
    "start_time": "2023-07-17T20:00:28.619Z"
   },
   {
    "duration": 18,
    "start_time": "2023-07-17T20:00:28.627Z"
   },
   {
    "duration": 824,
    "start_time": "2023-07-17T20:00:28.646Z"
   },
   {
    "duration": 7,
    "start_time": "2023-07-17T20:00:29.472Z"
   },
   {
    "duration": 7,
    "start_time": "2023-07-17T20:00:29.480Z"
   },
   {
    "duration": 150,
    "start_time": "2023-07-17T20:02:30.339Z"
   },
   {
    "duration": 38356,
    "start_time": "2023-07-17T20:03:20.624Z"
   },
   {
    "duration": 38463,
    "start_time": "2023-07-17T20:05:10.027Z"
   },
   {
    "duration": 42232,
    "start_time": "2023-07-17T20:06:39.700Z"
   },
   {
    "duration": 9516,
    "start_time": "2023-07-17T20:07:53.858Z"
   },
   {
    "duration": 119,
    "start_time": "2023-07-17T20:10:49.172Z"
   },
   {
    "duration": 51470,
    "start_time": "2023-07-17T20:11:50.946Z"
   },
   {
    "duration": 443,
    "start_time": "2023-07-17T20:19:25.627Z"
   },
   {
    "duration": 24,
    "start_time": "2023-07-17T20:19:26.072Z"
   },
   {
    "duration": 12,
    "start_time": "2023-07-17T20:19:26.098Z"
   },
   {
    "duration": 5,
    "start_time": "2023-07-17T20:19:26.111Z"
   },
   {
    "duration": 20,
    "start_time": "2023-07-17T20:19:26.118Z"
   },
   {
    "duration": 5,
    "start_time": "2023-07-17T20:19:26.166Z"
   },
   {
    "duration": 17,
    "start_time": "2023-07-17T20:19:26.173Z"
   },
   {
    "duration": 13,
    "start_time": "2023-07-17T20:19:26.192Z"
   },
   {
    "duration": 37,
    "start_time": "2023-07-17T20:19:26.207Z"
   },
   {
    "duration": 5,
    "start_time": "2023-07-17T20:19:26.246Z"
   },
   {
    "duration": 11,
    "start_time": "2023-07-17T20:19:26.253Z"
   },
   {
    "duration": 8,
    "start_time": "2023-07-17T20:19:26.265Z"
   },
   {
    "duration": 18,
    "start_time": "2023-07-17T20:19:26.275Z"
   },
   {
    "duration": 18,
    "start_time": "2023-07-17T20:19:26.296Z"
   },
   {
    "duration": 819,
    "start_time": "2023-07-17T20:19:26.316Z"
   },
   {
    "duration": 7,
    "start_time": "2023-07-17T20:19:27.138Z"
   },
   {
    "duration": 9523,
    "start_time": "2023-07-17T20:19:27.147Z"
   },
   {
    "duration": 325775,
    "start_time": "2023-07-17T20:19:36.672Z"
   },
   {
    "duration": 548,
    "start_time": "2023-07-29T07:36:52.994Z"
   },
   {
    "duration": 22,
    "start_time": "2023-07-29T07:36:53.544Z"
   },
   {
    "duration": 20,
    "start_time": "2023-07-29T07:36:53.568Z"
   },
   {
    "duration": 5,
    "start_time": "2023-07-29T07:36:53.590Z"
   },
   {
    "duration": 25,
    "start_time": "2023-07-29T07:36:53.598Z"
   },
   {
    "duration": 32,
    "start_time": "2023-07-29T07:36:53.625Z"
   },
   {
    "duration": 53,
    "start_time": "2023-07-29T07:36:53.659Z"
   },
   {
    "duration": 17,
    "start_time": "2023-07-29T07:36:53.714Z"
   },
   {
    "duration": 32,
    "start_time": "2023-07-29T07:36:53.733Z"
   },
   {
    "duration": 4,
    "start_time": "2023-07-29T07:36:53.767Z"
   },
   {
    "duration": 9,
    "start_time": "2023-07-29T07:36:53.773Z"
   },
   {
    "duration": 17,
    "start_time": "2023-07-29T07:36:53.783Z"
   },
   {
    "duration": 7,
    "start_time": "2023-07-29T07:36:53.803Z"
   },
   {
    "duration": 29,
    "start_time": "2023-07-29T07:36:53.813Z"
   },
   {
    "duration": 762,
    "start_time": "2023-07-29T07:36:53.844Z"
   },
   {
    "duration": 6,
    "start_time": "2023-07-29T07:36:54.608Z"
   },
   {
    "duration": 8763,
    "start_time": "2023-07-29T07:36:54.616Z"
   },
   {
    "duration": 286781,
    "start_time": "2023-07-29T07:37:03.382Z"
   },
   {
    "duration": 546,
    "start_time": "2023-07-29T07:45:52.659Z"
   },
   {
    "duration": 2311,
    "start_time": "2023-07-29T07:46:46.994Z"
   },
   {
    "duration": 1949,
    "start_time": "2023-07-29T07:47:14.547Z"
   },
   {
    "duration": 208,
    "start_time": "2023-07-29T07:47:20.844Z"
   },
   {
    "duration": 1780,
    "start_time": "2023-07-29T07:48:58.565Z"
   },
   {
    "duration": 117,
    "start_time": "2023-07-29T07:49:34.424Z"
   },
   {
    "duration": 221,
    "start_time": "2023-07-29T07:49:37.174Z"
   },
   {
    "duration": 13,
    "start_time": "2023-07-29T07:49:52.226Z"
   },
   {
    "duration": 372,
    "start_time": "2023-07-29T07:50:01.644Z"
   },
   {
    "duration": 44,
    "start_time": "2023-07-29T07:54:19.714Z"
   },
   {
    "duration": 45,
    "start_time": "2023-07-29T07:54:33.934Z"
   },
   {
    "duration": 1766,
    "start_time": "2023-07-29T07:54:46.602Z"
   },
   {
    "duration": 43,
    "start_time": "2023-07-29T07:55:02.038Z"
   },
   {
    "duration": 12,
    "start_time": "2023-07-29T07:55:34.754Z"
   },
   {
    "duration": 22,
    "start_time": "2023-07-29T07:55:44.415Z"
   },
   {
    "duration": 467,
    "start_time": "2023-07-29T07:56:06.146Z"
   },
   {
    "duration": 20,
    "start_time": "2023-07-29T07:56:06.615Z"
   },
   {
    "duration": 10,
    "start_time": "2023-07-29T07:56:06.637Z"
   },
   {
    "duration": 5,
    "start_time": "2023-07-29T07:56:06.649Z"
   },
   {
    "duration": 38,
    "start_time": "2023-07-29T07:56:06.655Z"
   },
   {
    "duration": 4,
    "start_time": "2023-07-29T07:56:06.694Z"
   },
   {
    "duration": 13,
    "start_time": "2023-07-29T07:56:06.700Z"
   },
   {
    "duration": 6,
    "start_time": "2023-07-29T07:56:06.714Z"
   },
   {
    "duration": 26,
    "start_time": "2023-07-29T07:56:06.721Z"
   },
   {
    "duration": 4,
    "start_time": "2023-07-29T07:56:06.748Z"
   },
   {
    "duration": 11,
    "start_time": "2023-07-29T07:56:06.753Z"
   },
   {
    "duration": 16,
    "start_time": "2023-07-29T07:56:06.765Z"
   },
   {
    "duration": 9,
    "start_time": "2023-07-29T07:56:06.782Z"
   },
   {
    "duration": 11,
    "start_time": "2023-07-29T07:56:06.793Z"
   },
   {
    "duration": 579,
    "start_time": "2023-07-29T07:56:06.805Z"
   },
   {
    "duration": 680,
    "start_time": "2023-07-29T07:56:07.385Z"
   },
   {
    "duration": 26,
    "start_time": "2023-07-29T07:56:08.067Z"
   },
   {
    "duration": 6,
    "start_time": "2023-07-29T07:56:08.095Z"
   },
   {
    "duration": 8618,
    "start_time": "2023-07-29T07:56:08.102Z"
   },
   {
    "duration": 304321,
    "start_time": "2023-07-29T07:56:16.722Z"
   },
   {
    "duration": 6,
    "start_time": "2023-07-29T09:06:20.404Z"
   },
   {
    "duration": 4,
    "start_time": "2023-07-29T09:10:43.832Z"
   },
   {
    "duration": 8653,
    "start_time": "2023-07-29T09:17:33.944Z"
   },
   {
    "duration": 8763,
    "start_time": "2023-07-29T09:18:00.904Z"
   },
   {
    "duration": 8776,
    "start_time": "2023-07-29T09:18:18.667Z"
   },
   {
    "duration": 8724,
    "start_time": "2023-07-29T09:18:35.654Z"
   },
   {
    "duration": 156,
    "start_time": "2023-07-29T09:19:51.694Z"
   },
   {
    "duration": 5,
    "start_time": "2023-07-29T09:20:18.094Z"
   },
   {
    "duration": 11856,
    "start_time": "2023-07-29T09:20:20.541Z"
   },
   {
    "duration": 4,
    "start_time": "2023-07-29T09:22:06.083Z"
   },
   {
    "duration": 11712,
    "start_time": "2023-07-29T09:22:08.930Z"
   },
   {
    "duration": 0,
    "start_time": "2023-07-29T09:24:57.334Z"
   },
   {
    "duration": 98906,
    "start_time": "2023-07-29T09:25:06.253Z"
   },
   {
    "duration": 4,
    "start_time": "2023-07-29T09:26:57.557Z"
   },
   {
    "duration": 165349,
    "start_time": "2023-07-29T09:26:58.757Z"
   },
   {
    "duration": 106,
    "start_time": "2023-07-29T09:29:48.072Z"
   },
   {
    "duration": 36455,
    "start_time": "2023-07-29T09:29:50.514Z"
   },
   {
    "duration": 4,
    "start_time": "2023-07-29T09:30:49.758Z"
   },
   {
    "duration": 42506,
    "start_time": "2023-07-29T09:30:53.553Z"
   },
   {
    "duration": 11,
    "start_time": "2023-07-29T09:32:10.683Z"
   },
   {
    "duration": 52184,
    "start_time": "2023-07-29T09:32:21.815Z"
   },
   {
    "duration": 44196,
    "start_time": "2023-07-29T09:33:15.365Z"
   },
   {
    "duration": 52644,
    "start_time": "2023-07-29T09:34:06.427Z"
   },
   {
    "duration": 11,
    "start_time": "2023-07-29T09:37:53.544Z"
   },
   {
    "duration": 6,
    "start_time": "2023-07-29T09:37:58.395Z"
   },
   {
    "duration": 28183,
    "start_time": "2023-07-29T09:38:01.195Z"
   },
   {
    "duration": 28054,
    "start_time": "2023-07-29T09:38:49.855Z"
   },
   {
    "duration": 289066,
    "start_time": "2023-07-29T09:41:57.306Z"
   },
   {
    "duration": 290433,
    "start_time": "2023-07-29T09:53:12.947Z"
   },
   {
    "duration": 10,
    "start_time": "2023-07-29T10:03:25.024Z"
   },
   {
    "duration": 1880964,
    "start_time": "2023-07-29T10:03:32.457Z"
   },
   {
    "duration": 20328,
    "start_time": "2023-07-29T10:37:21.585Z"
   },
   {
    "duration": 39959,
    "start_time": "2023-07-29T10:38:10.994Z"
   },
   {
    "duration": 19943,
    "start_time": "2023-07-29T10:44:05.682Z"
   },
   {
    "duration": 126389,
    "start_time": "2023-07-29T10:46:08.572Z"
   },
   {
    "duration": 63846,
    "start_time": "2023-07-29T10:51:11.602Z"
   },
   {
    "duration": 607,
    "start_time": "2023-07-29T21:21:02.141Z"
   },
   {
    "duration": 33,
    "start_time": "2023-07-29T21:21:02.751Z"
   },
   {
    "duration": 63,
    "start_time": "2023-07-29T21:21:02.793Z"
   },
   {
    "duration": 58,
    "start_time": "2023-07-29T21:21:02.859Z"
   },
   {
    "duration": 63,
    "start_time": "2023-07-29T21:21:02.919Z"
   },
   {
    "duration": 43,
    "start_time": "2023-07-29T21:21:02.983Z"
   },
   {
    "duration": 16,
    "start_time": "2023-07-29T21:21:03.029Z"
   },
   {
    "duration": 11,
    "start_time": "2023-07-29T21:21:03.047Z"
   },
   {
    "duration": 67,
    "start_time": "2023-07-29T21:21:03.060Z"
   },
   {
    "duration": 4,
    "start_time": "2023-07-29T21:21:03.130Z"
   },
   {
    "duration": 8,
    "start_time": "2023-07-29T21:21:03.135Z"
   },
   {
    "duration": 14,
    "start_time": "2023-07-29T21:21:03.144Z"
   },
   {
    "duration": 45,
    "start_time": "2023-07-29T21:21:03.159Z"
   },
   {
    "duration": 29,
    "start_time": "2023-07-29T21:21:03.206Z"
   },
   {
    "duration": 908,
    "start_time": "2023-07-29T21:21:03.237Z"
   },
   {
    "duration": 853,
    "start_time": "2023-07-29T21:21:04.148Z"
   },
   {
    "duration": 30,
    "start_time": "2023-07-29T21:21:05.013Z"
   },
   {
    "duration": 6,
    "start_time": "2023-07-29T21:21:05.046Z"
   },
   {
    "duration": 10541,
    "start_time": "2023-07-29T21:21:05.054Z"
   },
   {
    "duration": 24051,
    "start_time": "2023-07-29T21:21:15.598Z"
   },
   {
    "duration": 21,
    "start_time": "2023-07-29T21:21:39.652Z"
   },
   {
    "duration": 60,
    "start_time": "2023-07-29T21:21:39.676Z"
   },
   {
    "duration": 63206,
    "start_time": "2023-07-29T21:21:39.738Z"
   },
   {
    "duration": 32755,
    "start_time": "2023-07-29T21:22:42.946Z"
   },
   {
    "duration": 147516,
    "start_time": "2023-07-29T21:23:15.704Z"
   },
   {
    "duration": 75738,
    "start_time": "2023-07-29T21:25:43.222Z"
   },
   {
    "duration": 75532,
    "start_time": "2023-07-29T21:33:26.911Z"
   },
   {
    "duration": 531,
    "start_time": "2023-07-31T07:37:12.105Z"
   },
   {
    "duration": 19,
    "start_time": "2023-07-31T07:37:12.638Z"
   },
   {
    "duration": 25,
    "start_time": "2023-07-31T07:37:12.658Z"
   },
   {
    "duration": 9,
    "start_time": "2023-07-31T07:37:12.684Z"
   },
   {
    "duration": 18,
    "start_time": "2023-07-31T07:37:12.695Z"
   },
   {
    "duration": 8,
    "start_time": "2023-07-31T07:37:12.715Z"
   },
   {
    "duration": 4,
    "start_time": "2023-07-31T07:37:12.725Z"
   },
   {
    "duration": 20,
    "start_time": "2023-07-31T07:37:12.731Z"
   },
   {
    "duration": 20,
    "start_time": "2023-07-31T07:37:12.753Z"
   },
   {
    "duration": 4,
    "start_time": "2023-07-31T07:37:12.774Z"
   },
   {
    "duration": 5,
    "start_time": "2023-07-31T07:37:12.780Z"
   },
   {
    "duration": 21,
    "start_time": "2023-07-31T07:37:12.786Z"
   },
   {
    "duration": 12,
    "start_time": "2023-07-31T07:37:12.809Z"
   },
   {
    "duration": 33,
    "start_time": "2023-07-31T07:37:12.824Z"
   },
   {
    "duration": 812,
    "start_time": "2023-07-31T07:37:12.859Z"
   },
   {
    "duration": 747,
    "start_time": "2023-07-31T07:37:13.672Z"
   },
   {
    "duration": 25,
    "start_time": "2023-07-31T07:37:14.421Z"
   },
   {
    "duration": 6,
    "start_time": "2023-07-31T07:37:14.447Z"
   },
   {
    "duration": 8596,
    "start_time": "2023-07-31T07:37:14.454Z"
   },
   {
    "duration": 19784,
    "start_time": "2023-07-31T07:37:23.052Z"
   },
   {
    "duration": 5,
    "start_time": "2023-07-31T07:37:42.838Z"
   },
   {
    "duration": 22,
    "start_time": "2023-07-31T07:37:42.844Z"
   },
   {
    "duration": 52557,
    "start_time": "2023-07-31T07:37:42.868Z"
   },
   {
    "duration": 27373,
    "start_time": "2023-07-31T07:38:35.426Z"
   },
   {
    "duration": 121513,
    "start_time": "2023-07-31T07:39:02.801Z"
   },
   {
    "duration": 66572,
    "start_time": "2023-07-31T07:41:04.316Z"
   },
   {
    "duration": 8763,
    "start_time": "2023-07-31T07:42:10.891Z"
   },
   {
    "duration": 53673,
    "start_time": "2023-07-31T07:42:41.286Z"
   },
   {
    "duration": 8287,
    "start_time": "2023-07-31T07:44:14.097Z"
   },
   {
    "duration": 53324,
    "start_time": "2023-07-31T07:44:26.094Z"
   },
   {
    "duration": 22978,
    "start_time": "2023-07-31T07:46:15.014Z"
   },
   {
    "duration": 123267,
    "start_time": "2023-07-31T07:49:30.594Z"
   },
   {
    "duration": 22,
    "start_time": "2023-07-31T07:56:25.170Z"
   },
   {
    "duration": 54101,
    "start_time": "2023-07-31T07:56:39.646Z"
   },
   {
    "duration": 14,
    "start_time": "2023-07-31T08:02:42.554Z"
   },
   {
    "duration": 87,
    "start_time": "2023-07-31T08:02:48.015Z"
   },
   {
    "duration": 9769,
    "start_time": "2023-07-31T08:19:01.555Z"
   },
   {
    "duration": 10,
    "start_time": "2023-07-31T08:19:13.547Z"
   },
   {
    "duration": 12,
    "start_time": "2023-07-31T08:21:48.848Z"
   },
   {
    "duration": 22118,
    "start_time": "2023-07-31T08:22:22.694Z"
   },
   {
    "duration": 61,
    "start_time": "2023-07-31T08:23:24.555Z"
   },
   {
    "duration": 57582,
    "start_time": "2023-07-31T08:24:34.014Z"
   },
   {
    "duration": 481,
    "start_time": "2023-07-31T08:28:27.053Z"
   },
   {
    "duration": 20,
    "start_time": "2023-07-31T08:28:27.537Z"
   },
   {
    "duration": 13,
    "start_time": "2023-07-31T08:28:27.563Z"
   },
   {
    "duration": 33,
    "start_time": "2023-07-31T08:28:27.578Z"
   },
   {
    "duration": 18,
    "start_time": "2023-07-31T08:28:27.613Z"
   },
   {
    "duration": 4,
    "start_time": "2023-07-31T08:28:27.633Z"
   },
   {
    "duration": 21,
    "start_time": "2023-07-31T08:28:27.639Z"
   },
   {
    "duration": 15,
    "start_time": "2023-07-31T08:28:27.662Z"
   },
   {
    "duration": 25,
    "start_time": "2023-07-31T08:28:27.679Z"
   },
   {
    "duration": 10,
    "start_time": "2023-07-31T08:28:27.706Z"
   },
   {
    "duration": 6,
    "start_time": "2023-07-31T08:28:27.718Z"
   },
   {
    "duration": 38,
    "start_time": "2023-07-31T08:28:27.726Z"
   },
   {
    "duration": 14,
    "start_time": "2023-07-31T08:28:27.767Z"
   },
   {
    "duration": 15,
    "start_time": "2023-07-31T08:28:27.788Z"
   },
   {
    "duration": 690,
    "start_time": "2023-07-31T08:28:27.805Z"
   },
   {
    "duration": 795,
    "start_time": "2023-07-31T08:28:28.496Z"
   },
   {
    "duration": 26,
    "start_time": "2023-07-31T08:28:29.293Z"
   },
   {
    "duration": 6,
    "start_time": "2023-07-31T08:28:29.321Z"
   },
   {
    "duration": 9600,
    "start_time": "2023-07-31T08:28:29.329Z"
   },
   {
    "duration": 9,
    "start_time": "2023-07-31T08:28:38.931Z"
   },
   {
    "duration": 21942,
    "start_time": "2023-07-31T08:28:38.942Z"
   },
   {
    "duration": 55,
    "start_time": "2023-07-31T08:29:00.886Z"
   },
   {
    "duration": 5,
    "start_time": "2023-07-31T08:29:00.943Z"
   },
   {
    "duration": 10,
    "start_time": "2023-07-31T08:29:00.959Z"
   },
   {
    "duration": 57517,
    "start_time": "2023-07-31T08:29:00.971Z"
   },
   {
    "duration": 25430,
    "start_time": "2023-07-31T08:29:58.491Z"
   },
   {
    "duration": 1,
    "start_time": "2023-07-31T08:30:23.922Z"
   },
   {
    "duration": 0,
    "start_time": "2023-07-31T08:30:23.924Z"
   },
   {
    "duration": 0,
    "start_time": "2023-07-31T08:30:23.925Z"
   },
   {
    "duration": 24542,
    "start_time": "2023-07-31T08:32:09.775Z"
   },
   {
    "duration": 14,
    "start_time": "2023-07-31T08:33:26.767Z"
   },
   {
    "duration": 9169,
    "start_time": "2023-07-31T08:33:58.917Z"
   },
   {
    "duration": 11,
    "start_time": "2023-07-31T08:34:11.173Z"
   },
   {
    "duration": 10,
    "start_time": "2023-07-31T08:34:13.748Z"
   },
   {
    "duration": 24354,
    "start_time": "2023-07-31T08:34:18.648Z"
   },
   {
    "duration": 23418,
    "start_time": "2023-07-31T08:35:28.685Z"
   },
   {
    "duration": 461,
    "start_time": "2023-07-31T08:35:56.673Z"
   },
   {
    "duration": 23,
    "start_time": "2023-07-31T08:35:57.136Z"
   },
   {
    "duration": 13,
    "start_time": "2023-07-31T08:35:57.160Z"
   },
   {
    "duration": 8,
    "start_time": "2023-07-31T08:35:57.174Z"
   },
   {
    "duration": 14,
    "start_time": "2023-07-31T08:35:57.185Z"
   },
   {
    "duration": 5,
    "start_time": "2023-07-31T08:35:57.201Z"
   },
   {
    "duration": 11,
    "start_time": "2023-07-31T08:35:57.207Z"
   },
   {
    "duration": 43,
    "start_time": "2023-07-31T08:35:57.220Z"
   },
   {
    "duration": 24,
    "start_time": "2023-07-31T08:35:57.264Z"
   },
   {
    "duration": 5,
    "start_time": "2023-07-31T08:35:57.290Z"
   },
   {
    "duration": 40,
    "start_time": "2023-07-31T08:35:57.297Z"
   },
   {
    "duration": 10,
    "start_time": "2023-07-31T08:35:57.339Z"
   },
   {
    "duration": 9,
    "start_time": "2023-07-31T08:35:57.350Z"
   },
   {
    "duration": 16,
    "start_time": "2023-07-31T08:35:57.362Z"
   },
   {
    "duration": 661,
    "start_time": "2023-07-31T08:35:57.380Z"
   },
   {
    "duration": 921,
    "start_time": "2023-07-31T08:35:58.043Z"
   },
   {
    "duration": 28,
    "start_time": "2023-07-31T08:35:58.966Z"
   },
   {
    "duration": 46,
    "start_time": "2023-07-31T08:35:58.996Z"
   },
   {
    "duration": 8889,
    "start_time": "2023-07-31T08:35:59.043Z"
   },
   {
    "duration": 8,
    "start_time": "2023-07-31T08:36:07.933Z"
   },
   {
    "duration": 20344,
    "start_time": "2023-07-31T08:36:07.943Z"
   },
   {
    "duration": 53,
    "start_time": "2023-07-31T08:36:28.290Z"
   },
   {
    "duration": 17,
    "start_time": "2023-07-31T08:36:28.344Z"
   },
   {
    "duration": 6,
    "start_time": "2023-07-31T08:36:28.362Z"
   },
   {
    "duration": 53895,
    "start_time": "2023-07-31T08:36:28.370Z"
   },
   {
    "duration": 23998,
    "start_time": "2023-07-31T08:37:22.266Z"
   },
   {
    "duration": 0,
    "start_time": "2023-07-31T08:37:46.266Z"
   },
   {
    "duration": 0,
    "start_time": "2023-07-31T08:37:46.268Z"
   },
   {
    "duration": 0,
    "start_time": "2023-07-31T08:37:46.270Z"
   },
   {
    "duration": 465,
    "start_time": "2023-07-31T08:39:10.450Z"
   },
   {
    "duration": 21,
    "start_time": "2023-07-31T08:39:10.917Z"
   },
   {
    "duration": 36,
    "start_time": "2023-07-31T08:39:10.940Z"
   },
   {
    "duration": 6,
    "start_time": "2023-07-31T08:39:10.977Z"
   },
   {
    "duration": 54,
    "start_time": "2023-07-31T08:39:10.985Z"
   },
   {
    "duration": 16,
    "start_time": "2023-07-31T08:39:11.041Z"
   },
   {
    "duration": 14,
    "start_time": "2023-07-31T08:39:11.060Z"
   },
   {
    "duration": 43,
    "start_time": "2023-07-31T08:39:11.076Z"
   },
   {
    "duration": 24,
    "start_time": "2023-07-31T08:39:11.121Z"
   },
   {
    "duration": 9,
    "start_time": "2023-07-31T08:39:11.147Z"
   },
   {
    "duration": 9,
    "start_time": "2023-07-31T08:39:11.158Z"
   },
   {
    "duration": 8,
    "start_time": "2023-07-31T08:39:11.169Z"
   },
   {
    "duration": 10,
    "start_time": "2023-07-31T08:39:11.179Z"
   },
   {
    "duration": 12,
    "start_time": "2023-07-31T08:39:11.193Z"
   },
   {
    "duration": 653,
    "start_time": "2023-07-31T08:39:11.206Z"
   },
   {
    "duration": 787,
    "start_time": "2023-07-31T08:39:11.860Z"
   },
   {
    "duration": 25,
    "start_time": "2023-07-31T08:39:12.649Z"
   },
   {
    "duration": 7,
    "start_time": "2023-07-31T08:39:12.676Z"
   },
   {
    "duration": 8809,
    "start_time": "2023-07-31T08:39:12.685Z"
   },
   {
    "duration": 9,
    "start_time": "2023-07-31T08:39:21.496Z"
   },
   {
    "duration": 20844,
    "start_time": "2023-07-31T08:39:21.507Z"
   },
   {
    "duration": 57,
    "start_time": "2023-07-31T08:39:42.364Z"
   },
   {
    "duration": 5,
    "start_time": "2023-07-31T08:39:42.423Z"
   },
   {
    "duration": 9,
    "start_time": "2023-07-31T08:39:42.430Z"
   },
   {
    "duration": 54858,
    "start_time": "2023-07-31T08:39:42.441Z"
   },
   {
    "duration": 23981,
    "start_time": "2023-07-31T08:40:37.301Z"
   },
   {
    "duration": 0,
    "start_time": "2023-07-31T08:41:01.283Z"
   },
   {
    "duration": 0,
    "start_time": "2023-07-31T08:41:01.284Z"
   },
   {
    "duration": 0,
    "start_time": "2023-07-31T08:41:01.286Z"
   },
   {
    "duration": 435,
    "start_time": "2023-07-31T08:42:39.616Z"
   },
   {
    "duration": 33,
    "start_time": "2023-07-31T08:42:40.054Z"
   },
   {
    "duration": 29,
    "start_time": "2023-07-31T08:42:40.089Z"
   },
   {
    "duration": 51,
    "start_time": "2023-07-31T08:42:40.120Z"
   },
   {
    "duration": 34,
    "start_time": "2023-07-31T08:42:40.174Z"
   },
   {
    "duration": 24,
    "start_time": "2023-07-31T08:42:40.210Z"
   },
   {
    "duration": 46,
    "start_time": "2023-07-31T08:42:40.236Z"
   },
   {
    "duration": 19,
    "start_time": "2023-07-31T08:42:40.284Z"
   },
   {
    "duration": 39,
    "start_time": "2023-07-31T08:42:40.305Z"
   },
   {
    "duration": 5,
    "start_time": "2023-07-31T08:42:40.346Z"
   },
   {
    "duration": 40,
    "start_time": "2023-07-31T08:42:40.353Z"
   },
   {
    "duration": 6,
    "start_time": "2023-07-31T08:42:40.395Z"
   },
   {
    "duration": 5,
    "start_time": "2023-07-31T08:42:40.403Z"
   },
   {
    "duration": 13,
    "start_time": "2023-07-31T08:42:40.412Z"
   },
   {
    "duration": 655,
    "start_time": "2023-07-31T08:42:40.427Z"
   },
   {
    "duration": 910,
    "start_time": "2023-07-31T08:42:41.084Z"
   },
   {
    "duration": 26,
    "start_time": "2023-07-31T08:42:41.996Z"
   },
   {
    "duration": 8,
    "start_time": "2023-07-31T08:42:42.024Z"
   },
   {
    "duration": 9298,
    "start_time": "2023-07-31T08:42:42.034Z"
   },
   {
    "duration": 28,
    "start_time": "2023-07-31T08:42:51.338Z"
   },
   {
    "duration": 21197,
    "start_time": "2023-07-31T08:42:51.368Z"
   },
   {
    "duration": 55,
    "start_time": "2023-07-31T08:43:12.567Z"
   },
   {
    "duration": 6,
    "start_time": "2023-07-31T08:43:12.624Z"
   },
   {
    "duration": 16,
    "start_time": "2023-07-31T08:43:12.631Z"
   },
   {
    "duration": 54872,
    "start_time": "2023-07-31T08:43:12.659Z"
   },
   {
    "duration": 24426,
    "start_time": "2023-07-31T08:44:07.533Z"
   },
   {
    "duration": 129034,
    "start_time": "2023-07-31T08:44:31.963Z"
   },
   {
    "duration": 57396,
    "start_time": "2023-07-31T08:46:41.000Z"
   },
   {
    "duration": 194,
    "start_time": "2023-07-31T08:47:38.397Z"
   },
   {
    "duration": 128,
    "start_time": "2023-07-31T08:50:08.583Z"
   },
   {
    "duration": 508,
    "start_time": "2023-07-31T09:22:02.448Z"
   },
   {
    "duration": 20,
    "start_time": "2023-07-31T09:22:02.958Z"
   },
   {
    "duration": 26,
    "start_time": "2023-07-31T09:22:02.980Z"
   },
   {
    "duration": 9,
    "start_time": "2023-07-31T09:22:03.008Z"
   },
   {
    "duration": 14,
    "start_time": "2023-07-31T09:22:03.019Z"
   },
   {
    "duration": 4,
    "start_time": "2023-07-31T09:22:03.035Z"
   },
   {
    "duration": 16,
    "start_time": "2023-07-31T09:22:03.040Z"
   },
   {
    "duration": 12,
    "start_time": "2023-07-31T09:22:03.058Z"
   },
   {
    "duration": 34,
    "start_time": "2023-07-31T09:22:03.072Z"
   },
   {
    "duration": 4,
    "start_time": "2023-07-31T09:22:03.108Z"
   },
   {
    "duration": 16,
    "start_time": "2023-07-31T09:22:03.114Z"
   },
   {
    "duration": 8,
    "start_time": "2023-07-31T09:22:03.132Z"
   },
   {
    "duration": 24,
    "start_time": "2023-07-31T09:22:03.141Z"
   },
   {
    "duration": 13,
    "start_time": "2023-07-31T09:22:03.168Z"
   },
   {
    "duration": 686,
    "start_time": "2023-07-31T09:22:03.183Z"
   },
   {
    "duration": 1675,
    "start_time": "2023-07-31T09:22:03.871Z"
   },
   {
    "duration": 37,
    "start_time": "2023-07-31T09:22:05.548Z"
   },
   {
    "duration": 7,
    "start_time": "2023-07-31T09:22:05.587Z"
   },
   {
    "duration": 9202,
    "start_time": "2023-07-31T09:22:05.595Z"
   },
   {
    "duration": 8,
    "start_time": "2023-07-31T09:22:14.799Z"
   },
   {
    "duration": 21867,
    "start_time": "2023-07-31T09:22:14.809Z"
   },
   {
    "duration": 55,
    "start_time": "2023-07-31T09:22:36.678Z"
   },
   {
    "duration": 18,
    "start_time": "2023-07-31T09:22:36.735Z"
   },
   {
    "duration": 13,
    "start_time": "2023-07-31T09:22:36.755Z"
   },
   {
    "duration": 55297,
    "start_time": "2023-07-31T09:22:36.770Z"
   },
   {
    "duration": 24873,
    "start_time": "2023-07-31T09:23:32.068Z"
   },
   {
    "duration": 127503,
    "start_time": "2023-07-31T09:23:56.943Z"
   },
   {
    "duration": 55159,
    "start_time": "2023-07-31T09:26:04.448Z"
   },
   {
    "duration": 148,
    "start_time": "2023-07-31T09:26:59.608Z"
   },
   {
    "duration": 133,
    "start_time": "2023-07-31T21:55:46.556Z"
   },
   {
    "duration": 44,
    "start_time": "2023-07-31T22:01:12.558Z"
   },
   {
    "duration": 1244,
    "start_time": "2023-07-31T22:09:30.758Z"
   },
   {
    "duration": 23,
    "start_time": "2023-07-31T22:09:32.004Z"
   },
   {
    "duration": 16,
    "start_time": "2023-07-31T22:09:32.029Z"
   },
   {
    "duration": 10,
    "start_time": "2023-07-31T22:09:32.047Z"
   },
   {
    "duration": 25,
    "start_time": "2023-07-31T22:09:32.059Z"
   },
   {
    "duration": 16,
    "start_time": "2023-07-31T22:09:32.086Z"
   },
   {
    "duration": 13,
    "start_time": "2023-07-31T22:09:32.104Z"
   },
   {
    "duration": 17,
    "start_time": "2023-07-31T22:09:32.119Z"
   },
   {
    "duration": 25,
    "start_time": "2023-07-31T22:09:32.138Z"
   },
   {
    "duration": 5,
    "start_time": "2023-07-31T22:09:32.165Z"
   },
   {
    "duration": 16,
    "start_time": "2023-07-31T22:09:32.172Z"
   },
   {
    "duration": 35,
    "start_time": "2023-07-31T22:09:32.190Z"
   },
   {
    "duration": 20,
    "start_time": "2023-07-31T22:09:32.226Z"
   },
   {
    "duration": 15,
    "start_time": "2023-07-31T22:09:32.249Z"
   },
   {
    "duration": 20,
    "start_time": "2023-07-31T22:09:32.266Z"
   },
   {
    "duration": 30,
    "start_time": "2023-07-31T22:09:32.288Z"
   },
   {
    "duration": 4221,
    "start_time": "2023-07-31T22:09:32.320Z"
   },
   {
    "duration": 13,
    "start_time": "2023-07-31T22:09:36.543Z"
   },
   {
    "duration": 1212,
    "start_time": "2023-07-31T22:10:00.943Z"
   },
   {
    "duration": 22,
    "start_time": "2023-07-31T22:10:02.158Z"
   },
   {
    "duration": 28,
    "start_time": "2023-07-31T22:10:02.182Z"
   },
   {
    "duration": 35,
    "start_time": "2023-07-31T22:10:02.212Z"
   },
   {
    "duration": 38,
    "start_time": "2023-07-31T22:10:02.250Z"
   },
   {
    "duration": 8,
    "start_time": "2023-07-31T22:10:02.290Z"
   },
   {
    "duration": 39,
    "start_time": "2023-07-31T22:10:02.300Z"
   },
   {
    "duration": 13,
    "start_time": "2023-07-31T22:10:02.341Z"
   },
   {
    "duration": 51,
    "start_time": "2023-07-31T22:10:02.356Z"
   },
   {
    "duration": 4,
    "start_time": "2023-07-31T22:10:02.409Z"
   },
   {
    "duration": 41,
    "start_time": "2023-07-31T22:10:02.415Z"
   },
   {
    "duration": 18,
    "start_time": "2023-07-31T22:10:02.458Z"
   },
   {
    "duration": 15,
    "start_time": "2023-07-31T22:10:02.478Z"
   },
   {
    "duration": 38,
    "start_time": "2023-07-31T22:10:02.496Z"
   },
   {
    "duration": 29,
    "start_time": "2023-07-31T22:10:02.536Z"
   },
   {
    "duration": 14,
    "start_time": "2023-07-31T22:10:02.567Z"
   },
   {
    "duration": 4255,
    "start_time": "2023-07-31T22:10:02.583Z"
   },
   {
    "duration": 15,
    "start_time": "2023-07-31T22:10:06.840Z"
   },
   {
    "duration": 137056,
    "start_time": "2023-07-31T22:10:06.856Z"
   },
   {
    "duration": 62,
    "start_time": "2023-07-31T22:12:23.914Z"
   },
   {
    "duration": 6,
    "start_time": "2023-07-31T22:12:23.977Z"
   },
   {
    "duration": 15,
    "start_time": "2023-07-31T22:12:23.984Z"
   },
   {
    "duration": 5611,
    "start_time": "2023-07-31T22:12:24.001Z"
   },
   {
    "duration": 0,
    "start_time": "2023-07-31T22:12:29.614Z"
   },
   {
    "duration": 0,
    "start_time": "2023-07-31T22:12:29.615Z"
   },
   {
    "duration": 0,
    "start_time": "2023-07-31T22:12:29.616Z"
   },
   {
    "duration": 0,
    "start_time": "2023-07-31T22:12:29.617Z"
   },
   {
    "duration": 5441,
    "start_time": "2023-07-31T22:13:37.296Z"
   },
   {
    "duration": 1289,
    "start_time": "2023-07-31T22:14:32.845Z"
   },
   {
    "duration": 22,
    "start_time": "2023-07-31T22:14:34.136Z"
   },
   {
    "duration": 19,
    "start_time": "2023-07-31T22:14:34.160Z"
   },
   {
    "duration": 6,
    "start_time": "2023-07-31T22:14:34.181Z"
   },
   {
    "duration": 16,
    "start_time": "2023-07-31T22:14:34.188Z"
   },
   {
    "duration": 5,
    "start_time": "2023-07-31T22:14:34.206Z"
   },
   {
    "duration": 12,
    "start_time": "2023-07-31T22:14:34.212Z"
   },
   {
    "duration": 17,
    "start_time": "2023-07-31T22:14:34.225Z"
   },
   {
    "duration": 23,
    "start_time": "2023-07-31T22:14:34.244Z"
   },
   {
    "duration": 4,
    "start_time": "2023-07-31T22:14:34.269Z"
   },
   {
    "duration": 12,
    "start_time": "2023-07-31T22:14:34.274Z"
   },
   {
    "duration": 7,
    "start_time": "2023-07-31T22:14:34.288Z"
   },
   {
    "duration": 6,
    "start_time": "2023-07-31T22:14:34.296Z"
   },
   {
    "duration": 12,
    "start_time": "2023-07-31T22:14:34.305Z"
   },
   {
    "duration": 39,
    "start_time": "2023-07-31T22:14:34.319Z"
   },
   {
    "duration": 8,
    "start_time": "2023-07-31T22:14:34.360Z"
   },
   {
    "duration": 4314,
    "start_time": "2023-07-31T22:14:34.370Z"
   },
   {
    "duration": 10,
    "start_time": "2023-07-31T22:14:38.686Z"
   },
   {
    "duration": 1224,
    "start_time": "2023-08-01T08:04:42.286Z"
   },
   {
    "duration": 19,
    "start_time": "2023-08-01T08:04:43.512Z"
   },
   {
    "duration": 15,
    "start_time": "2023-08-01T08:04:43.533Z"
   },
   {
    "duration": 8,
    "start_time": "2023-08-01T08:04:43.549Z"
   },
   {
    "duration": 19,
    "start_time": "2023-08-01T08:04:43.559Z"
   },
   {
    "duration": 4,
    "start_time": "2023-08-01T08:04:43.580Z"
   },
   {
    "duration": 34,
    "start_time": "2023-08-01T08:04:43.586Z"
   },
   {
    "duration": 4,
    "start_time": "2023-08-01T08:04:43.622Z"
   },
   {
    "duration": 18,
    "start_time": "2023-08-01T08:04:43.628Z"
   },
   {
    "duration": 4,
    "start_time": "2023-08-01T08:04:43.648Z"
   },
   {
    "duration": 6,
    "start_time": "2023-08-01T08:04:43.654Z"
   },
   {
    "duration": 13,
    "start_time": "2023-08-01T08:04:43.662Z"
   },
   {
    "duration": 6,
    "start_time": "2023-08-01T08:04:43.676Z"
   },
   {
    "duration": 46,
    "start_time": "2023-08-01T08:04:43.684Z"
   },
   {
    "duration": 8,
    "start_time": "2023-08-01T08:04:43.731Z"
   },
   {
    "duration": 6,
    "start_time": "2023-08-01T08:04:43.741Z"
   },
   {
    "duration": 4528,
    "start_time": "2023-08-01T08:04:43.749Z"
   },
   {
    "duration": 10,
    "start_time": "2023-08-01T08:04:48.279Z"
   },
   {
    "duration": 136158,
    "start_time": "2023-08-01T08:04:48.291Z"
   },
   {
    "duration": 46,
    "start_time": "2023-08-01T08:07:04.451Z"
   },
   {
    "duration": 23,
    "start_time": "2023-08-01T08:07:04.499Z"
   },
   {
    "duration": 8,
    "start_time": "2023-08-01T08:07:04.524Z"
   },
   {
    "duration": 5726,
    "start_time": "2023-08-01T08:07:04.534Z"
   },
   {
    "duration": 2303,
    "start_time": "2023-08-01T08:07:10.262Z"
   },
   {
    "duration": 187053,
    "start_time": "2023-08-01T08:07:12.567Z"
   },
   {
    "duration": 117,
    "start_time": "2023-08-01T08:10:19.622Z"
   },
   {
    "duration": 0,
    "start_time": "2023-08-01T08:10:19.742Z"
   },
   {
    "duration": 80153,
    "start_time": "2023-08-01T08:10:58.355Z"
   },
   {
    "duration": 1132,
    "start_time": "2023-08-01T08:15:28.561Z"
   },
   {
    "duration": 20,
    "start_time": "2023-08-01T08:15:29.695Z"
   },
   {
    "duration": 11,
    "start_time": "2023-08-01T08:15:29.717Z"
   },
   {
    "duration": 9,
    "start_time": "2023-08-01T08:15:29.730Z"
   },
   {
    "duration": 14,
    "start_time": "2023-08-01T08:15:29.742Z"
   },
   {
    "duration": 5,
    "start_time": "2023-08-01T08:15:29.758Z"
   },
   {
    "duration": 6,
    "start_time": "2023-08-01T08:15:29.765Z"
   },
   {
    "duration": 8,
    "start_time": "2023-08-01T08:15:29.773Z"
   },
   {
    "duration": 53,
    "start_time": "2023-08-01T08:15:29.783Z"
   },
   {
    "duration": 5,
    "start_time": "2023-08-01T08:15:29.838Z"
   },
   {
    "duration": 6,
    "start_time": "2023-08-01T08:15:29.844Z"
   },
   {
    "duration": 7,
    "start_time": "2023-08-01T08:15:29.852Z"
   },
   {
    "duration": 6,
    "start_time": "2023-08-01T08:15:29.861Z"
   },
   {
    "duration": 50,
    "start_time": "2023-08-01T08:15:29.870Z"
   },
   {
    "duration": 10,
    "start_time": "2023-08-01T08:15:29.922Z"
   },
   {
    "duration": 12,
    "start_time": "2023-08-01T08:15:29.934Z"
   },
   {
    "duration": 4509,
    "start_time": "2023-08-01T08:15:29.948Z"
   },
   {
    "duration": 9,
    "start_time": "2023-08-01T08:15:34.460Z"
   },
   {
    "duration": 135545,
    "start_time": "2023-08-01T08:15:34.471Z"
   },
   {
    "duration": 48,
    "start_time": "2023-08-01T08:17:50.020Z"
   },
   {
    "duration": 7,
    "start_time": "2023-08-01T08:17:50.070Z"
   },
   {
    "duration": 14,
    "start_time": "2023-08-01T08:17:50.078Z"
   },
   {
    "duration": 5776,
    "start_time": "2023-08-01T08:17:50.094Z"
   },
   {
    "duration": 2083,
    "start_time": "2023-08-01T08:17:55.872Z"
   },
   {
    "duration": 186457,
    "start_time": "2023-08-01T08:17:57.957Z"
   },
   {
    "duration": 76849,
    "start_time": "2023-08-01T08:21:04.416Z"
   },
   {
    "duration": 187,
    "start_time": "2023-08-01T08:22:21.267Z"
   },
   {
    "duration": 101,
    "start_time": "2023-08-01T08:38:42.171Z"
   },
   {
    "duration": 56,
    "start_time": "2023-08-01T08:38:52.014Z"
   },
   {
    "duration": 9,
    "start_time": "2023-08-01T08:39:01.039Z"
   },
   {
    "duration": 7,
    "start_time": "2023-08-01T08:39:13.366Z"
   },
   {
    "duration": 7,
    "start_time": "2023-08-01T08:39:18.440Z"
   }
  ],
  "kernelspec": {
   "display_name": "Python 3 (ipykernel)",
   "language": "python",
   "name": "python3"
  },
  "language_info": {
   "codemirror_mode": {
    "name": "ipython",
    "version": 3
   },
   "file_extension": ".py",
   "mimetype": "text/x-python",
   "name": "python",
   "nbconvert_exporter": "python",
   "pygments_lexer": "ipython3",
   "version": "3.9.13"
  },
  "toc": {
   "base_numbering": 1,
   "nav_menu": {},
   "number_sections": true,
   "sideBar": true,
   "skip_h1_title": true,
   "title_cell": "Содержание",
   "title_sidebar": "Contents",
   "toc_cell": true,
   "toc_position": {},
   "toc_section_display": true,
   "toc_window_display": false
  }
 },
 "nbformat": 4,
 "nbformat_minor": 2
}
